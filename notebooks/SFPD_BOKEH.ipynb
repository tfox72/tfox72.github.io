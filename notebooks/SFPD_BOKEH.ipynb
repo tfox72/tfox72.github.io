{
 "cells": [
  {
   "cell_type": "code",
   "execution_count": 1,
   "metadata": {},
   "outputs": [],
   "source": [
    "import pandas as pd\n",
    "import bokeh as bk\n",
    "from bokeh.models import ColumnDataSource, HoverTool\n",
    "from bokeh.plotting import figure\n",
    "from bokeh.transform import factor_cmap\n",
    "from bokeh.io import output_notebook, show"
   ]
  },
  {
   "cell_type": "code",
   "execution_count": 2,
   "metadata": {},
   "outputs": [],
   "source": [
    "df = pd.read_csv('sfpd_by_hour_df.csv', sep='\\t')"
   ]
  },
  {
   "cell_type": "code",
   "execution_count": 3,
   "metadata": {},
   "outputs": [],
   "source": [
    "columns = ['hour_of_day', 'ARSON', 'ASSAULT', 'BAD CHECKS',\n",
    "       'BRIBERY', 'BURGLARY', 'DISORDERLY CONDUCT',\n",
    "       'DRIVING UNDER THE INFLUENCE', 'DRUG/NARCOTIC', 'DRUNKENNESS',\n",
    "       'EMBEZZLEMENT', 'EXTORTION', 'FAMILY OFFENSES',\n",
    "       'FORGERY/COUNTERFEITING', 'FRAUD', 'GAMBLING', 'KIDNAPPING',\n",
    "       'LARCENY/THEFT', 'LIQUOR LAWS', 'LOITERING', 'MISSING PERSON',\n",
    "       'NON-CRIMINAL', 'OTHER OFFENSES', 'PORNOGRAPHY/OBSCENE MAT',\n",
    "       'PROSTITUTION', 'RECOVERED VEHICLE', 'ROBBERY', 'RUNAWAY',\n",
    "       'SECONDARY CODES', 'SEX OFFENSES, FORCIBLE',\n",
    "       'SEX OFFENSES, NON FORCIBLE', 'STOLEN PROPERTY', 'SUICIDE',\n",
    "       'SUSPICIOUS OCC', 'TREA', 'TRESPASS', 'VANDALISM', 'VEHICLE THEFT',\n",
    "       'WARRANTS', 'WEAPON LAWS']"
   ]
  },
  {
   "cell_type": "code",
   "execution_count": 4,
   "metadata": {},
   "outputs": [],
   "source": [
    "df[columns] = df[columns].astype(int)"
   ]
  },
  {
   "cell_type": "code",
   "execution_count": 5,
   "metadata": {},
   "outputs": [
    {
     "data": {
      "text/html": [
       "\n",
       "    <div class=\"bk-root\">\n",
       "        <a href=\"https://bokeh.pydata.org\" target=\"_blank\" class=\"bk-logo bk-logo-small bk-logo-notebook\"></a>\n",
       "        <span id=\"36ae1304-4067-4063-a46b-e89ed28ba20c\">Loading BokehJS ...</span>\n",
       "    </div>"
      ]
     },
     "metadata": {},
     "output_type": "display_data"
    },
    {
     "data": {
      "application/javascript": [
       "\n",
       "(function(root) {\n",
       "  function now() {\n",
       "    return new Date();\n",
       "  }\n",
       "\n",
       "  var force = true;\n",
       "\n",
       "  if (typeof (root._bokeh_onload_callbacks) === \"undefined\" || force === true) {\n",
       "    root._bokeh_onload_callbacks = [];\n",
       "    root._bokeh_is_loading = undefined;\n",
       "  }\n",
       "\n",
       "  var JS_MIME_TYPE = 'application/javascript';\n",
       "  var HTML_MIME_TYPE = 'text/html';\n",
       "  var EXEC_MIME_TYPE = 'application/vnd.bokehjs_exec.v0+json';\n",
       "  var CLASS_NAME = 'output_bokeh rendered_html';\n",
       "\n",
       "  /**\n",
       "   * Render data to the DOM node\n",
       "   */\n",
       "  function render(props, node) {\n",
       "    var script = document.createElement(\"script\");\n",
       "    node.appendChild(script);\n",
       "  }\n",
       "\n",
       "  /**\n",
       "   * Handle when an output is cleared or removed\n",
       "   */\n",
       "  function handleClearOutput(event, handle) {\n",
       "    var cell = handle.cell;\n",
       "\n",
       "    var id = cell.output_area._bokeh_element_id;\n",
       "    var server_id = cell.output_area._bokeh_server_id;\n",
       "    // Clean up Bokeh references\n",
       "    if (id !== undefined) {\n",
       "      Bokeh.index[id].model.document.clear();\n",
       "      delete Bokeh.index[id];\n",
       "    }\n",
       "\n",
       "    if (server_id !== undefined) {\n",
       "      // Clean up Bokeh references\n",
       "      var cmd = \"from bokeh.io.state import curstate; print(curstate().uuid_to_server['\" + server_id + \"'].get_sessions()[0].document.roots[0]._id)\";\n",
       "      cell.notebook.kernel.execute(cmd, {\n",
       "        iopub: {\n",
       "          output: function(msg) {\n",
       "            var element_id = msg.content.text.trim();\n",
       "            Bokeh.index[element_id].model.document.clear();\n",
       "            delete Bokeh.index[element_id];\n",
       "          }\n",
       "        }\n",
       "      });\n",
       "      // Destroy server and session\n",
       "      var cmd = \"import bokeh.io.notebook as ion; ion.destroy_server('\" + server_id + \"')\";\n",
       "      cell.notebook.kernel.execute(cmd);\n",
       "    }\n",
       "  }\n",
       "\n",
       "  /**\n",
       "   * Handle when a new output is added\n",
       "   */\n",
       "  function handleAddOutput(event, handle) {\n",
       "    var output_area = handle.output_area;\n",
       "    var output = handle.output;\n",
       "\n",
       "    // limit handleAddOutput to display_data with EXEC_MIME_TYPE content only\n",
       "    if ((output.output_type != \"display_data\") || (!output.data.hasOwnProperty(EXEC_MIME_TYPE))) {\n",
       "      return\n",
       "    }\n",
       "\n",
       "    var toinsert = output_area.element.find(\".\" + CLASS_NAME.split(' ')[0]);\n",
       "\n",
       "    if (output.metadata[EXEC_MIME_TYPE][\"id\"] !== undefined) {\n",
       "      toinsert[toinsert.length - 1].firstChild.textContent = output.data[JS_MIME_TYPE];\n",
       "      // store reference to embed id on output_area\n",
       "      output_area._bokeh_element_id = output.metadata[EXEC_MIME_TYPE][\"id\"];\n",
       "    }\n",
       "    if (output.metadata[EXEC_MIME_TYPE][\"server_id\"] !== undefined) {\n",
       "      var bk_div = document.createElement(\"div\");\n",
       "      bk_div.innerHTML = output.data[HTML_MIME_TYPE];\n",
       "      var script_attrs = bk_div.children[0].attributes;\n",
       "      for (var i = 0; i < script_attrs.length; i++) {\n",
       "        toinsert[toinsert.length - 1].firstChild.setAttribute(script_attrs[i].name, script_attrs[i].value);\n",
       "      }\n",
       "      // store reference to server id on output_area\n",
       "      output_area._bokeh_server_id = output.metadata[EXEC_MIME_TYPE][\"server_id\"];\n",
       "    }\n",
       "  }\n",
       "\n",
       "  function register_renderer(events, OutputArea) {\n",
       "\n",
       "    function append_mime(data, metadata, element) {\n",
       "      // create a DOM node to render to\n",
       "      var toinsert = this.create_output_subarea(\n",
       "        metadata,\n",
       "        CLASS_NAME,\n",
       "        EXEC_MIME_TYPE\n",
       "      );\n",
       "      this.keyboard_manager.register_events(toinsert);\n",
       "      // Render to node\n",
       "      var props = {data: data, metadata: metadata[EXEC_MIME_TYPE]};\n",
       "      render(props, toinsert[toinsert.length - 1]);\n",
       "      element.append(toinsert);\n",
       "      return toinsert\n",
       "    }\n",
       "\n",
       "    /* Handle when an output is cleared or removed */\n",
       "    events.on('clear_output.CodeCell', handleClearOutput);\n",
       "    events.on('delete.Cell', handleClearOutput);\n",
       "\n",
       "    /* Handle when a new output is added */\n",
       "    events.on('output_added.OutputArea', handleAddOutput);\n",
       "\n",
       "    /**\n",
       "     * Register the mime type and append_mime function with output_area\n",
       "     */\n",
       "    OutputArea.prototype.register_mime_type(EXEC_MIME_TYPE, append_mime, {\n",
       "      /* Is output safe? */\n",
       "      safe: true,\n",
       "      /* Index of renderer in `output_area.display_order` */\n",
       "      index: 0\n",
       "    });\n",
       "  }\n",
       "\n",
       "  // register the mime type if in Jupyter Notebook environment and previously unregistered\n",
       "  if (root.Jupyter !== undefined) {\n",
       "    var events = require('base/js/events');\n",
       "    var OutputArea = require('notebook/js/outputarea').OutputArea;\n",
       "\n",
       "    if (OutputArea.prototype.mime_types().indexOf(EXEC_MIME_TYPE) == -1) {\n",
       "      register_renderer(events, OutputArea);\n",
       "    }\n",
       "  }\n",
       "\n",
       "  \n",
       "  if (typeof (root._bokeh_timeout) === \"undefined\" || force === true) {\n",
       "    root._bokeh_timeout = Date.now() + 5000;\n",
       "    root._bokeh_failed_load = false;\n",
       "  }\n",
       "\n",
       "  var NB_LOAD_WARNING = {'data': {'text/html':\n",
       "     \"<div style='background-color: #fdd'>\\n\"+\n",
       "     \"<p>\\n\"+\n",
       "     \"BokehJS does not appear to have successfully loaded. If loading BokehJS from CDN, this \\n\"+\n",
       "     \"may be due to a slow or bad network connection. Possible fixes:\\n\"+\n",
       "     \"</p>\\n\"+\n",
       "     \"<ul>\\n\"+\n",
       "     \"<li>re-rerun `output_notebook()` to attempt to load from CDN again, or</li>\\n\"+\n",
       "     \"<li>use INLINE resources instead, as so:</li>\\n\"+\n",
       "     \"</ul>\\n\"+\n",
       "     \"<code>\\n\"+\n",
       "     \"from bokeh.resources import INLINE\\n\"+\n",
       "     \"output_notebook(resources=INLINE)\\n\"+\n",
       "     \"</code>\\n\"+\n",
       "     \"</div>\"}};\n",
       "\n",
       "  function display_loaded() {\n",
       "    var el = document.getElementById(\"36ae1304-4067-4063-a46b-e89ed28ba20c\");\n",
       "    if (el != null) {\n",
       "      el.textContent = \"BokehJS is loading...\";\n",
       "    }\n",
       "    if (root.Bokeh !== undefined) {\n",
       "      if (el != null) {\n",
       "        el.textContent = \"BokehJS \" + root.Bokeh.version + \" successfully loaded.\";\n",
       "      }\n",
       "    } else if (Date.now() < root._bokeh_timeout) {\n",
       "      setTimeout(display_loaded, 100)\n",
       "    }\n",
       "  }\n",
       "\n",
       "\n",
       "  function run_callbacks() {\n",
       "    try {\n",
       "      root._bokeh_onload_callbacks.forEach(function(callback) { callback() });\n",
       "    }\n",
       "    finally {\n",
       "      delete root._bokeh_onload_callbacks\n",
       "    }\n",
       "    console.info(\"Bokeh: all callbacks have finished\");\n",
       "  }\n",
       "\n",
       "  function load_libs(js_urls, callback) {\n",
       "    root._bokeh_onload_callbacks.push(callback);\n",
       "    if (root._bokeh_is_loading > 0) {\n",
       "      console.log(\"Bokeh: BokehJS is being loaded, scheduling callback at\", now());\n",
       "      return null;\n",
       "    }\n",
       "    if (js_urls == null || js_urls.length === 0) {\n",
       "      run_callbacks();\n",
       "      return null;\n",
       "    }\n",
       "    console.log(\"Bokeh: BokehJS not loaded, scheduling load and callback at\", now());\n",
       "    root._bokeh_is_loading = js_urls.length;\n",
       "    for (var i = 0; i < js_urls.length; i++) {\n",
       "      var url = js_urls[i];\n",
       "      var s = document.createElement('script');\n",
       "      s.src = url;\n",
       "      s.async = false;\n",
       "      s.onreadystatechange = s.onload = function() {\n",
       "        root._bokeh_is_loading--;\n",
       "        if (root._bokeh_is_loading === 0) {\n",
       "          console.log(\"Bokeh: all BokehJS libraries loaded\");\n",
       "          run_callbacks()\n",
       "        }\n",
       "      };\n",
       "      s.onerror = function() {\n",
       "        console.warn(\"failed to load library \" + url);\n",
       "      };\n",
       "      console.log(\"Bokeh: injecting script tag for BokehJS library: \", url);\n",
       "      document.getElementsByTagName(\"head\")[0].appendChild(s);\n",
       "    }\n",
       "  };var element = document.getElementById(\"36ae1304-4067-4063-a46b-e89ed28ba20c\");\n",
       "  if (element == null) {\n",
       "    console.log(\"Bokeh: ERROR: autoload.js configured with elementid '36ae1304-4067-4063-a46b-e89ed28ba20c' but no matching script tag was found. \")\n",
       "    return false;\n",
       "  }\n",
       "\n",
       "  var js_urls = [\"https://cdn.pydata.org/bokeh/release/bokeh-0.12.16.min.js\", \"https://cdn.pydata.org/bokeh/release/bokeh-widgets-0.12.16.min.js\", \"https://cdn.pydata.org/bokeh/release/bokeh-tables-0.12.16.min.js\", \"https://cdn.pydata.org/bokeh/release/bokeh-gl-0.12.16.min.js\"];\n",
       "\n",
       "  var inline_js = [\n",
       "    function(Bokeh) {\n",
       "      Bokeh.set_log_level(\"info\");\n",
       "    },\n",
       "    \n",
       "    function(Bokeh) {\n",
       "      \n",
       "    },\n",
       "    function(Bokeh) {\n",
       "      console.log(\"Bokeh: injecting CSS: https://cdn.pydata.org/bokeh/release/bokeh-0.12.16.min.css\");\n",
       "      Bokeh.embed.inject_css(\"https://cdn.pydata.org/bokeh/release/bokeh-0.12.16.min.css\");\n",
       "      console.log(\"Bokeh: injecting CSS: https://cdn.pydata.org/bokeh/release/bokeh-widgets-0.12.16.min.css\");\n",
       "      Bokeh.embed.inject_css(\"https://cdn.pydata.org/bokeh/release/bokeh-widgets-0.12.16.min.css\");\n",
       "      console.log(\"Bokeh: injecting CSS: https://cdn.pydata.org/bokeh/release/bokeh-tables-0.12.16.min.css\");\n",
       "      Bokeh.embed.inject_css(\"https://cdn.pydata.org/bokeh/release/bokeh-tables-0.12.16.min.css\");\n",
       "    }\n",
       "  ];\n",
       "\n",
       "  function run_inline_js() {\n",
       "    \n",
       "    if ((root.Bokeh !== undefined) || (force === true)) {\n",
       "      for (var i = 0; i < inline_js.length; i++) {\n",
       "        inline_js[i].call(root, root.Bokeh);\n",
       "      }if (force === true) {\n",
       "        display_loaded();\n",
       "      }} else if (Date.now() < root._bokeh_timeout) {\n",
       "      setTimeout(run_inline_js, 100);\n",
       "    } else if (!root._bokeh_failed_load) {\n",
       "      console.log(\"Bokeh: BokehJS failed to load within specified timeout.\");\n",
       "      root._bokeh_failed_load = true;\n",
       "    } else if (force !== true) {\n",
       "      var cell = $(document.getElementById(\"36ae1304-4067-4063-a46b-e89ed28ba20c\")).parents('.cell').data().cell;\n",
       "      cell.output_area.append_execute_result(NB_LOAD_WARNING)\n",
       "    }\n",
       "\n",
       "  }\n",
       "\n",
       "  if (root._bokeh_is_loading === 0) {\n",
       "    console.log(\"Bokeh: BokehJS loaded, going straight to plotting\");\n",
       "    run_inline_js();\n",
       "  } else {\n",
       "    load_libs(js_urls, function() {\n",
       "      console.log(\"Bokeh: BokehJS plotting callback run at\", now());\n",
       "      run_inline_js();\n",
       "    });\n",
       "  }\n",
       "}(window));"
      ],
      "application/vnd.bokehjs_load.v0+json": "\n(function(root) {\n  function now() {\n    return new Date();\n  }\n\n  var force = true;\n\n  if (typeof (root._bokeh_onload_callbacks) === \"undefined\" || force === true) {\n    root._bokeh_onload_callbacks = [];\n    root._bokeh_is_loading = undefined;\n  }\n\n  \n\n  \n  if (typeof (root._bokeh_timeout) === \"undefined\" || force === true) {\n    root._bokeh_timeout = Date.now() + 5000;\n    root._bokeh_failed_load = false;\n  }\n\n  var NB_LOAD_WARNING = {'data': {'text/html':\n     \"<div style='background-color: #fdd'>\\n\"+\n     \"<p>\\n\"+\n     \"BokehJS does not appear to have successfully loaded. If loading BokehJS from CDN, this \\n\"+\n     \"may be due to a slow or bad network connection. Possible fixes:\\n\"+\n     \"</p>\\n\"+\n     \"<ul>\\n\"+\n     \"<li>re-rerun `output_notebook()` to attempt to load from CDN again, or</li>\\n\"+\n     \"<li>use INLINE resources instead, as so:</li>\\n\"+\n     \"</ul>\\n\"+\n     \"<code>\\n\"+\n     \"from bokeh.resources import INLINE\\n\"+\n     \"output_notebook(resources=INLINE)\\n\"+\n     \"</code>\\n\"+\n     \"</div>\"}};\n\n  function display_loaded() {\n    var el = document.getElementById(\"36ae1304-4067-4063-a46b-e89ed28ba20c\");\n    if (el != null) {\n      el.textContent = \"BokehJS is loading...\";\n    }\n    if (root.Bokeh !== undefined) {\n      if (el != null) {\n        el.textContent = \"BokehJS \" + root.Bokeh.version + \" successfully loaded.\";\n      }\n    } else if (Date.now() < root._bokeh_timeout) {\n      setTimeout(display_loaded, 100)\n    }\n  }\n\n\n  function run_callbacks() {\n    try {\n      root._bokeh_onload_callbacks.forEach(function(callback) { callback() });\n    }\n    finally {\n      delete root._bokeh_onload_callbacks\n    }\n    console.info(\"Bokeh: all callbacks have finished\");\n  }\n\n  function load_libs(js_urls, callback) {\n    root._bokeh_onload_callbacks.push(callback);\n    if (root._bokeh_is_loading > 0) {\n      console.log(\"Bokeh: BokehJS is being loaded, scheduling callback at\", now());\n      return null;\n    }\n    if (js_urls == null || js_urls.length === 0) {\n      run_callbacks();\n      return null;\n    }\n    console.log(\"Bokeh: BokehJS not loaded, scheduling load and callback at\", now());\n    root._bokeh_is_loading = js_urls.length;\n    for (var i = 0; i < js_urls.length; i++) {\n      var url = js_urls[i];\n      var s = document.createElement('script');\n      s.src = url;\n      s.async = false;\n      s.onreadystatechange = s.onload = function() {\n        root._bokeh_is_loading--;\n        if (root._bokeh_is_loading === 0) {\n          console.log(\"Bokeh: all BokehJS libraries loaded\");\n          run_callbacks()\n        }\n      };\n      s.onerror = function() {\n        console.warn(\"failed to load library \" + url);\n      };\n      console.log(\"Bokeh: injecting script tag for BokehJS library: \", url);\n      document.getElementsByTagName(\"head\")[0].appendChild(s);\n    }\n  };var element = document.getElementById(\"36ae1304-4067-4063-a46b-e89ed28ba20c\");\n  if (element == null) {\n    console.log(\"Bokeh: ERROR: autoload.js configured with elementid '36ae1304-4067-4063-a46b-e89ed28ba20c' but no matching script tag was found. \")\n    return false;\n  }\n\n  var js_urls = [\"https://cdn.pydata.org/bokeh/release/bokeh-0.12.16.min.js\", \"https://cdn.pydata.org/bokeh/release/bokeh-widgets-0.12.16.min.js\", \"https://cdn.pydata.org/bokeh/release/bokeh-tables-0.12.16.min.js\", \"https://cdn.pydata.org/bokeh/release/bokeh-gl-0.12.16.min.js\"];\n\n  var inline_js = [\n    function(Bokeh) {\n      Bokeh.set_log_level(\"info\");\n    },\n    \n    function(Bokeh) {\n      \n    },\n    function(Bokeh) {\n      console.log(\"Bokeh: injecting CSS: https://cdn.pydata.org/bokeh/release/bokeh-0.12.16.min.css\");\n      Bokeh.embed.inject_css(\"https://cdn.pydata.org/bokeh/release/bokeh-0.12.16.min.css\");\n      console.log(\"Bokeh: injecting CSS: https://cdn.pydata.org/bokeh/release/bokeh-widgets-0.12.16.min.css\");\n      Bokeh.embed.inject_css(\"https://cdn.pydata.org/bokeh/release/bokeh-widgets-0.12.16.min.css\");\n      console.log(\"Bokeh: injecting CSS: https://cdn.pydata.org/bokeh/release/bokeh-tables-0.12.16.min.css\");\n      Bokeh.embed.inject_css(\"https://cdn.pydata.org/bokeh/release/bokeh-tables-0.12.16.min.css\");\n    }\n  ];\n\n  function run_inline_js() {\n    \n    if ((root.Bokeh !== undefined) || (force === true)) {\n      for (var i = 0; i < inline_js.length; i++) {\n        inline_js[i].call(root, root.Bokeh);\n      }if (force === true) {\n        display_loaded();\n      }} else if (Date.now() < root._bokeh_timeout) {\n      setTimeout(run_inline_js, 100);\n    } else if (!root._bokeh_failed_load) {\n      console.log(\"Bokeh: BokehJS failed to load within specified timeout.\");\n      root._bokeh_failed_load = true;\n    } else if (force !== true) {\n      var cell = $(document.getElementById(\"36ae1304-4067-4063-a46b-e89ed28ba20c\")).parents('.cell').data().cell;\n      cell.output_area.append_execute_result(NB_LOAD_WARNING)\n    }\n\n  }\n\n  if (root._bokeh_is_loading === 0) {\n    console.log(\"Bokeh: BokehJS loaded, going straight to plotting\");\n    run_inline_js();\n  } else {\n    load_libs(js_urls, function() {\n      console.log(\"Bokeh: BokehJS plotting callback run at\", now());\n      run_inline_js();\n    });\n  }\n}(window));"
     },
     "metadata": {},
     "output_type": "display_data"
    }
   ],
   "source": [
    "output_notebook()\n",
    "\n",
    "source = ColumnDataSource(df)"
   ]
  },
  {
   "cell_type": "code",
   "execution_count": 13,
   "metadata": {},
   "outputs": [
    {
     "data": {
      "text/html": [
       "\n",
       "<div class=\"bk-root\">\n",
       "    <div class=\"bk-plotdiv\" id=\"1ff7ece0-6d14-459c-98f0-f11c52ceafb2\"></div>\n",
       "</div>"
      ]
     },
     "metadata": {},
     "output_type": "display_data"
    },
    {
     "data": {
      "application/javascript": [
       "(function(root) {\n",
       "  function embed_document(root) {\n",
       "    \n",
       "  var docs_json = {\"1ea36caf-fef8-4b31-9f73-c8535a33530d\":{\"roots\":{\"references\":[{\"attributes\":{},\"id\":\"deb0c465-7b21-4111-806b-8bd7a910959e\",\"type\":\"LinearScale\"},{\"attributes\":{},\"id\":\"a5714d5f-ed3b-4ce8-9daf-97caf9582182\",\"type\":\"LinearScale\"},{\"attributes\":{\"overlay\":{\"id\":\"454b3076-08b3-4675-b650-385856c18587\",\"type\":\"BoxAnnotation\"}},\"id\":\"0c6229df-a3cd-495b-b49a-f9b11c8de0e1\",\"type\":\"BoxZoomTool\"},{\"attributes\":{},\"id\":\"4bbd8d14-91b4-4a52-94c8-6651136ebdd5\",\"type\":\"BasicTickFormatter\"},{\"attributes\":{},\"id\":\"0e75d9dd-33a7-4293-8cc2-d0c661d568d7\",\"type\":\"UnionRenderers\"},{\"attributes\":{\"axis_label\":\"Hour of Day\",\"formatter\":{\"id\":\"445a23f8-9a6d-4ee1-9be6-916485528825\",\"type\":\"BasicTickFormatter\"},\"plot\":{\"id\":\"41cac6e9-7b14-4339-8fe4-365bfff432ad\",\"subtype\":\"Figure\",\"type\":\"Plot\"},\"ticker\":{\"id\":\"3b3310f0-0aa7-4ec5-b85b-62b75529a045\",\"type\":\"BasicTicker\"}},\"id\":\"cfeae5eb-807b-4c3d-b8f5-b7d508a6e0d1\",\"type\":\"LinearAxis\"},{\"attributes\":{},\"id\":\"3b3310f0-0aa7-4ec5-b85b-62b75529a045\",\"type\":\"BasicTicker\"},{\"attributes\":{\"axis_label\":\"Number of Reports\",\"formatter\":{\"id\":\"4bbd8d14-91b4-4a52-94c8-6651136ebdd5\",\"type\":\"BasicTickFormatter\"},\"plot\":{\"id\":\"41cac6e9-7b14-4339-8fe4-365bfff432ad\",\"subtype\":\"Figure\",\"type\":\"Plot\"},\"ticker\":{\"id\":\"ae675a26-c914-4c8a-baf4-bd9cc86946d7\",\"type\":\"BasicTicker\"}},\"id\":\"44c3cf0f-9dbe-4975-9d08-46725037baf5\",\"type\":\"LinearAxis\"},{\"attributes\":{\"active_drag\":\"auto\",\"active_inspect\":\"auto\",\"active_scroll\":\"auto\",\"active_tap\":\"auto\",\"tools\":[{\"id\":\"31e373a8-e777-463b-959c-a73d5e82b013\",\"type\":\"PanTool\"},{\"id\":\"73546189-a031-4c00-a58a-f8c0124a3c61\",\"type\":\"WheelZoomTool\"},{\"id\":\"0c6229df-a3cd-495b-b49a-f9b11c8de0e1\",\"type\":\"BoxZoomTool\"},{\"id\":\"9d25e580-449c-4b6c-9239-0211be8446b5\",\"type\":\"SaveTool\"},{\"id\":\"50be59fa-7957-44dc-8d9f-71c8145d394a\",\"type\":\"ResetTool\"},{\"id\":\"b73aa048-2418-47fb-8fd6-3fb0d2b85998\",\"type\":\"HelpTool\"},{\"id\":\"66fe8e8d-2c94-4ace-b88e-bae1e672160d\",\"type\":\"HoverTool\"}]},\"id\":\"c187b4cd-b5c7-4aee-9e21-57cebc513d4d\",\"type\":\"Toolbar\"},{\"attributes\":{\"callback\":null,\"data\":{\"ARSON\":[249,238,257,257,216,167,114,89,92,78,83,82,109,118,114,135,120,153,148,163,193,188,230,246],\"ASSAULT\":[10644,9089,8264,4207,2652,2116,2821,4187,6394,7027,7813,8265,10289,8920,9045,10160,9998,10187,10019,9777,9682,10067,9631,9140],\"BAD CHECKS\":[159,3,2,3,3,2,3,12,49,65,58,46,186,46,50,62,50,41,20,20,12,9,8,5],\"BRIBERY\":[43,26,27,20,9,9,7,12,16,35,39,31,41,43,39,35,48,55,30,49,45,47,49,42],\"BURGLARY\":[3399,2200,2374,2419,2154,1963,1977,3107,4811,4207,3919,3703,4975,3283,3588,4203,4675,6248,6279,4698,4098,3976,3750,3522],\"DISORDERLY CONDUCT\":[523,383,343,216,159,398,1000,908,679,514,437,392,398,378,349,339,310,294,325,267,253,286,388,411],\"DRIVING UNDER THE INFLUENCE\":[714,650,645,288,108,59,70,46,46,55,26,50,56,65,75,104,144,181,188,231,277,374,503,638],\"DRUG/NARCOTIC\":[3744,2274,1842,1248,909,475,1332,3016,3994,4699,5267,5855,6093,7885,8907,8217,8586,8860,7867,6691,5104,4798,5719,4878],\"DRUNKENNESS\":[821,780,658,259,133,45,80,164,157,174,201,287,282,281,327,361,436,513,569,546,569,621,744,738],\"EMBEZZLEMENT\":[629,12,8,13,12,7,13,35,212,213,162,117,503,108,118,136,116,137,113,81,55,55,34,38],\"EXTORTION\":[81,11,15,8,4,7,9,16,27,31,61,36,73,46,41,44,34,34,29,30,20,24,24,20],\"FAMILY OFFENSES\":[66,25,23,9,5,4,9,28,47,46,63,70,64,90,85,101,75,68,62,62,40,50,39,40],\"FORGERY/COUNTERFEITING\":[3568,197,126,99,72,55,145,274,1110,1429,1207,1069,3324,1422,1299,1546,1404,1298,869,612,573,441,388,312],\"FRAUD\":[5511,738,498,304,200,188,355,673,1916,2105,2047,1658,4961,2248,2103,2464,2187,2255,2010,1558,1357,1111,1091,1195],\"GAMBLING\":[22,1,2,2,1,4,2,5,11,11,20,27,32,30,28,32,20,24,22,14,8,6,9,8],\"KIDNAPPING\":[329,251,257,179,100,99,80,130,157,199,209,172,255,221,220,246,264,260,288,261,265,281,259,293],\"LARCENY/THEFT\":[18602,11503,7516,4706,3050,3069,4837,7637,12876,15298,19080,20991,26986,23982,24866,26438,27628,31426,37456,35074,30589,25794,25303,22950],\"LIQUOR LAWS\":[194,96,90,40,28,13,38,82,116,121,150,159,201,197,175,186,273,444,354,285,179,198,229,221],\"LOITERING\":[78,62,44,36,21,90,151,137,127,99,114,117,109,137,127,90,138,169,149,112,86,91,56,74],\"MISSING PERSON\":[2140,941,790,466,352,484,1111,3526,4322,3571,3597,3375,4516,3360,3477,4023,3646,3464,3496,2901,2793,2638,2573,2144],\"NON-CRIMINAL\":[10570,5752,4482,3056,2224,2203,4099,6741,10091,11291,12590,12581,17216,13430,13400,14023,14127,13230,12506,10898,10118,9930,9778,8987],\"OTHER OFFENSES\":[18552,8722,7215,4781,3604,2817,4121,8198,12718,14325,13950,13830,19761,15285,15393,16260,17914,18695,17157,14649,12593,12660,15744,15098],\"PORNOGRAPHY/OBSCENE MAT\":[5,0,3,2,0,0,3,0,3,3,1,2,4,1,7,2,4,1,3,0,1,3,6,1],\"PROSTITUTION\":[1370,1061,789,544,472,577,516,266,151,158,189,214,484,334,307,234,286,599,1166,1363,1090,1287,1593,1602],\"RECOVERED VEHICLE\":[359,260,218,201,160,99,126,414,468,558,542,557,609,499,439,386,512,447,364,333,276,254,316,317],\"ROBBERY\":[2957,3016,3154,1900,1233,1063,1019,922,1048,1245,1435,1612,1926,2045,2160,2471,2692,2669,2820,3013,3349,3814,3768,3523],\"RUNAWAY\":[119,53,42,20,19,20,72,246,283,216,227,208,240,219,212,248,258,236,308,257,258,210,209,175],\"SECONDARY CODES\":[1473,822,768,547,395,295,423,627,996,1055,1055,1143,1529,1191,1158,1313,1293,1309,1416,1312,1326,1321,1304,1152],\"SEX OFFENSES, FORCIBLE\":[1426,577,593,392,222,176,152,212,424,389,361,339,584,416,432,554,534,550,466,435,531,502,556,588],\"SEX OFFENSES, NON FORCIBLE\":[80,6,2,2,2,4,6,5,19,19,13,23,42,19,23,28,18,17,20,13,16,12,13,18],\"STOLEN PROPERTY\":[546,388,325,248,225,172,195,283,358,385,434,513,665,620,666,711,741,761,734,603,570,503,517,482],\"SUICIDE\":[46,43,30,23,15,22,32,42,51,67,71,71,67,72,69,78,60,73,66,71,57,67,43,39],\"SUSPICIOUS OCC\":[5111,2173,1980,1376,937,762,1247,1996,3458,3888,3879,3962,5880,4252,4224,4599,4388,4210,4159,3692,3354,3339,3187,2770],\"TREA\":[0,0,2,0,0,1,1,1,0,0,1,1,1,0,0,1,1,1,0,1,1,0,1,0],\"TRESPASS\":[557,399,438,360,261,528,1153,1249,1162,1043,1012,970,1040,959,863,947,882,919,853,765,737,718,606,538],\"Unnamed: 0\":[0,1,2,3,4,5,6,7,8,9,10,11,12,13,14,15,16,17,18,19,20,21,22,23],\"VANDALISM\":[6412,4484,4239,2835,1900,1573,1814,2468,3602,3384,3498,3319,4518,3482,3969,4670,5179,6910,8227,7416,7365,7511,7666,6995],\"VEHICLE THEFT\":[4716,3215,2550,1581,1220,1224,1805,3114,4451,4368,4090,3674,5403,3854,4511,5313,6312,8379,10220,8956,9389,9025,9537,8302],\"WARRANTS\":[4007,2731,2274,1755,1347,952,1636,3192,3742,4372,4749,5069,5394,5728,5882,5797,6348,6495,5904,5144,4150,3972,4763,4396],\"WEAPON LAWS\":[1125,830,731,444,312,169,243,434,594,758,798,918,1079,1071,1054,1220,1286,1249,1338,1247,1151,1175,1281,1191],\"hour_of_day\":[0,1,2,3,4,5,6,7,8,9,10,11,12,13,14,15,16,17,18,19,20,21,22,23],\"index\":[0,1,2,3,4,5,6,7,8,9,10,11,12,13,14,15,16,17,18,19,20,21,22,23]},\"selected\":{\"id\":\"0371b949-8296-4038-b88a-29a77bdea807\",\"type\":\"Selection\"},\"selection_policy\":{\"id\":\"0e75d9dd-33a7-4293-8cc2-d0c661d568d7\",\"type\":\"UnionRenderers\"}},\"id\":\"d5d898db-c4cf-424c-9b1a-74c2310e87c0\",\"type\":\"ColumnDataSource\"},{\"attributes\":{\"source\":{\"id\":\"d5d898db-c4cf-424c-9b1a-74c2310e87c0\",\"type\":\"ColumnDataSource\"}},\"id\":\"d96eb35b-7277-4a8d-961d-73fba1f93865\",\"type\":\"CDSView\"},{\"attributes\":{\"data_source\":{\"id\":\"d5d898db-c4cf-424c-9b1a-74c2310e87c0\",\"type\":\"ColumnDataSource\"},\"glyph\":{\"id\":\"f21efe38-8048-4dc3-b048-6a3a40acd936\",\"type\":\"Circle\"},\"hover_glyph\":null,\"muted_glyph\":null,\"nonselection_glyph\":{\"id\":\"26c07462-ca97-42e7-83b9-a6679591c70a\",\"type\":\"Circle\"},\"selection_glyph\":null,\"view\":{\"id\":\"d96eb35b-7277-4a8d-961d-73fba1f93865\",\"type\":\"CDSView\"}},\"id\":\"e712210d-092b-4c8a-baa7-c0702ce685a0\",\"type\":\"GlyphRenderer\"},{\"attributes\":{\"bottom_units\":\"screen\",\"fill_alpha\":{\"value\":0.5},\"fill_color\":{\"value\":\"lightgrey\"},\"left_units\":\"screen\",\"level\":\"overlay\",\"line_alpha\":{\"value\":1.0},\"line_color\":{\"value\":\"black\"},\"line_dash\":[4,4],\"line_width\":{\"value\":2},\"plot\":null,\"render_mode\":\"css\",\"right_units\":\"screen\",\"top_units\":\"screen\"},\"id\":\"454b3076-08b3-4675-b650-385856c18587\",\"type\":\"BoxAnnotation\"},{\"attributes\":{},\"id\":\"b73aa048-2418-47fb-8fd6-3fb0d2b85998\",\"type\":\"HelpTool\"},{\"attributes\":{\"fill_alpha\":{\"value\":0.1},\"fill_color\":{\"value\":\"#1f77b4\"},\"line_alpha\":{\"value\":0.1},\"line_color\":{\"value\":\"#1f77b4\"},\"size\":{\"units\":\"screen\",\"value\":15},\"x\":{\"field\":\"hour_of_day\"},\"y\":{\"field\":\"ARSON\"}},\"id\":\"26c07462-ca97-42e7-83b9-a6679591c70a\",\"type\":\"Circle\"},{\"attributes\":{},\"id\":\"50be59fa-7957-44dc-8d9f-71c8145d394a\",\"type\":\"ResetTool\"},{\"attributes\":{},\"id\":\"445a23f8-9a6d-4ee1-9be6-916485528825\",\"type\":\"BasicTickFormatter\"},{\"attributes\":{},\"id\":\"ae675a26-c914-4c8a-baf4-bd9cc86946d7\",\"type\":\"BasicTicker\"},{\"attributes\":{\"callback\":null},\"id\":\"ff0eddc6-09b1-4c3d-9961-920d69842da7\",\"type\":\"DataRange1d\"},{\"attributes\":{\"plot\":null,\"text\":\"SFPD Reports of Arson by Hour\"},\"id\":\"0811d1ab-4f31-486f-bd7b-4d453171ac1a\",\"type\":\"Title\"},{\"attributes\":{\"callback\":null,\"renderers\":\"auto\",\"tooltips\":[[\"Hour of Day\",\"@hour_of_day\"],[\"Number of Reports\",\"@ARSON\"]]},\"id\":\"66fe8e8d-2c94-4ace-b88e-bae1e672160d\",\"type\":\"HoverTool\"},{\"attributes\":{\"plot\":{\"id\":\"41cac6e9-7b14-4339-8fe4-365bfff432ad\",\"subtype\":\"Figure\",\"type\":\"Plot\"},\"ticker\":{\"id\":\"3b3310f0-0aa7-4ec5-b85b-62b75529a045\",\"type\":\"BasicTicker\"}},\"id\":\"8f0395f1-9eea-4242-8d1b-79b15ee28930\",\"type\":\"Grid\"},{\"attributes\":{\"callback\":null},\"id\":\"7cae9295-7560-4335-9d11-5850d1bbbebe\",\"type\":\"DataRange1d\"},{\"attributes\":{},\"id\":\"9d25e580-449c-4b6c-9239-0211be8446b5\",\"type\":\"SaveTool\"},{\"attributes\":{},\"id\":\"0371b949-8296-4038-b88a-29a77bdea807\",\"type\":\"Selection\"},{\"attributes\":{\"fill_color\":{\"value\":\"red\"},\"line_color\":{\"value\":\"red\"},\"size\":{\"units\":\"screen\",\"value\":15},\"x\":{\"field\":\"hour_of_day\"},\"y\":{\"field\":\"ARSON\"}},\"id\":\"f21efe38-8048-4dc3-b048-6a3a40acd936\",\"type\":\"Circle\"},{\"attributes\":{},\"id\":\"31e373a8-e777-463b-959c-a73d5e82b013\",\"type\":\"PanTool\"},{\"attributes\":{},\"id\":\"73546189-a031-4c00-a58a-f8c0124a3c61\",\"type\":\"WheelZoomTool\"},{\"attributes\":{\"below\":[{\"id\":\"cfeae5eb-807b-4c3d-b8f5-b7d508a6e0d1\",\"type\":\"LinearAxis\"}],\"left\":[{\"id\":\"44c3cf0f-9dbe-4975-9d08-46725037baf5\",\"type\":\"LinearAxis\"}],\"plot_height\":400,\"plot_width\":400,\"renderers\":[{\"id\":\"cfeae5eb-807b-4c3d-b8f5-b7d508a6e0d1\",\"type\":\"LinearAxis\"},{\"id\":\"8f0395f1-9eea-4242-8d1b-79b15ee28930\",\"type\":\"Grid\"},{\"id\":\"44c3cf0f-9dbe-4975-9d08-46725037baf5\",\"type\":\"LinearAxis\"},{\"id\":\"08ba8197-45c5-476b-8c6f-beb2fb0298c3\",\"type\":\"Grid\"},{\"id\":\"454b3076-08b3-4675-b650-385856c18587\",\"type\":\"BoxAnnotation\"},{\"id\":\"e712210d-092b-4c8a-baa7-c0702ce685a0\",\"type\":\"GlyphRenderer\"}],\"title\":{\"id\":\"0811d1ab-4f31-486f-bd7b-4d453171ac1a\",\"type\":\"Title\"},\"toolbar\":{\"id\":\"c187b4cd-b5c7-4aee-9e21-57cebc513d4d\",\"type\":\"Toolbar\"},\"x_range\":{\"id\":\"7cae9295-7560-4335-9d11-5850d1bbbebe\",\"type\":\"DataRange1d\"},\"x_scale\":{\"id\":\"deb0c465-7b21-4111-806b-8bd7a910959e\",\"type\":\"LinearScale\"},\"y_range\":{\"id\":\"ff0eddc6-09b1-4c3d-9961-920d69842da7\",\"type\":\"DataRange1d\"},\"y_scale\":{\"id\":\"a5714d5f-ed3b-4ce8-9daf-97caf9582182\",\"type\":\"LinearScale\"}},\"id\":\"41cac6e9-7b14-4339-8fe4-365bfff432ad\",\"subtype\":\"Figure\",\"type\":\"Plot\"},{\"attributes\":{\"dimension\":1,\"plot\":{\"id\":\"41cac6e9-7b14-4339-8fe4-365bfff432ad\",\"subtype\":\"Figure\",\"type\":\"Plot\"},\"ticker\":{\"id\":\"ae675a26-c914-4c8a-baf4-bd9cc86946d7\",\"type\":\"BasicTicker\"}},\"id\":\"08ba8197-45c5-476b-8c6f-beb2fb0298c3\",\"type\":\"Grid\"}],\"root_ids\":[\"41cac6e9-7b14-4339-8fe4-365bfff432ad\"]},\"title\":\"Bokeh Application\",\"version\":\"0.12.16\"}};\n",
       "  var render_items = [{\"docid\":\"1ea36caf-fef8-4b31-9f73-c8535a33530d\",\"elementid\":\"1ff7ece0-6d14-459c-98f0-f11c52ceafb2\",\"modelid\":\"41cac6e9-7b14-4339-8fe4-365bfff432ad\"}];\n",
       "  root.Bokeh.embed.embed_items_notebook(docs_json, render_items);\n",
       "\n",
       "  }\n",
       "  if (root.Bokeh !== undefined) {\n",
       "    embed_document(root);\n",
       "  } else {\n",
       "    var attempts = 0;\n",
       "    var timer = setInterval(function(root) {\n",
       "      if (root.Bokeh !== undefined) {\n",
       "        embed_document(root);\n",
       "        clearInterval(timer);\n",
       "      }\n",
       "      attempts++;\n",
       "      if (attempts > 100) {\n",
       "        console.log(\"Bokeh: ERROR: Unable to run BokehJS code because BokehJS library is missing\")\n",
       "        clearInterval(timer);\n",
       "      }\n",
       "    }, 10, root)\n",
       "  }\n",
       "})(window);"
      ],
      "application/vnd.bokehjs_exec.v0+json": ""
     },
     "metadata": {
      "application/vnd.bokehjs_exec.v0+json": {
       "id": "41cac6e9-7b14-4339-8fe4-365bfff432ad"
      }
     },
     "output_type": "display_data"
    }
   ],
   "source": [
    "p = figure(plot_width=400, plot_height=400)\n",
    "\n",
    "p.circle(x='hour_of_day', y='ARSON', \n",
    "         source=source, \n",
    "         size= 15 , color='red')\n",
    "\n",
    "p.title.text = 'SFPD Reports of Arson by Hour'\n",
    "p.xaxis.axis_label = 'Hour of Day'\n",
    "p.yaxis.axis_label = 'Number of Reports'\n",
    "\n",
    "hover = HoverTool()\n",
    "hover.tooltips=[\n",
    "    ('Hour of Day', '@hour_of_day'),\n",
    "    ('Number of Reports', '@ARSON'),\n",
    "]\n",
    "\n",
    "p.add_tools(hover)\n",
    "\n",
    "\n",
    "show(p)"
   ]
  },
  {
   "cell_type": "code",
   "execution_count": 7,
   "metadata": {},
   "outputs": [
    {
     "data": {
      "text/html": [
       "\n",
       "<div class=\"bk-root\">\n",
       "    <div class=\"bk-plotdiv\" id=\"3f4449d5-0e2b-4038-9553-13dbddacd62e\"></div>\n",
       "</div>"
      ]
     },
     "metadata": {},
     "output_type": "display_data"
    },
    {
     "data": {
      "application/javascript": [
       "(function(root) {\n",
       "  function embed_document(root) {\n",
       "    \n",
       "  var docs_json = {\"937bfab4-6735-46b3-a490-00fa0b7e12dc\":{\"roots\":{\"references\":[{\"attributes\":{},\"id\":\"d9f0166c-7324-4c95-8a19-1cfb9940ed0e\",\"type\":\"ResetTool\"},{\"attributes\":{},\"id\":\"1f596f6a-f9d2-40af-923e-15e66dc97d1c\",\"type\":\"LinearScale\"},{\"attributes\":{\"plot\":{\"id\":\"0f4eb6ec-f4c6-46f5-b527-d56dfcc29510\",\"subtype\":\"Figure\",\"type\":\"Plot\"},\"ticker\":{\"id\":\"468b4a1c-1232-43b3-b977-4ac9a2ba107d\",\"type\":\"BasicTicker\"}},\"id\":\"574e935c-620e-4665-9680-aecb9f541369\",\"type\":\"Grid\"},{\"attributes\":{},\"id\":\"fe26ebaf-9984-4458-a23e-169c3f5e310b\",\"type\":\"HelpTool\"},{\"attributes\":{\"data_source\":{\"id\":\"d5d898db-c4cf-424c-9b1a-74c2310e87c0\",\"type\":\"ColumnDataSource\"},\"glyph\":{\"id\":\"36d32c85-f6cd-4f3d-860a-5aa4401473c1\",\"type\":\"Triangle\"},\"hover_glyph\":null,\"muted_glyph\":null,\"nonselection_glyph\":{\"id\":\"b1a20fd9-ef14-43b6-b6aa-8306636f7e55\",\"type\":\"Triangle\"},\"selection_glyph\":null,\"view\":{\"id\":\"6267c6f1-5900-4cd7-893b-ad9befc2bfd5\",\"type\":\"CDSView\"}},\"id\":\"3a54089a-ef31-40d1-b1cf-b3c425c087db\",\"type\":\"GlyphRenderer\"},{\"attributes\":{},\"id\":\"0e75d9dd-33a7-4293-8cc2-d0c661d568d7\",\"type\":\"UnionRenderers\"},{\"attributes\":{\"axis_label\":\"Hour of Day\",\"formatter\":{\"id\":\"f28f4abe-cd3b-4dce-ac7e-9c7d530b5c82\",\"type\":\"BasicTickFormatter\"},\"plot\":{\"id\":\"0f4eb6ec-f4c6-46f5-b527-d56dfcc29510\",\"subtype\":\"Figure\",\"type\":\"Plot\"},\"ticker\":{\"id\":\"468b4a1c-1232-43b3-b977-4ac9a2ba107d\",\"type\":\"BasicTicker\"}},\"id\":\"23d98009-a4c8-494a-9caa-b773ea87519c\",\"type\":\"LinearAxis\"},{\"attributes\":{\"callback\":null,\"renderers\":\"auto\",\"tooltips\":[[\"Hour of Day\",\"@hour_of_day\"],[\"Number of Reports\",\"@ASSAULT\"]]},\"id\":\"5e733344-6e0e-40b6-b5da-430ff89f5ac0\",\"type\":\"HoverTool\"},{\"attributes\":{\"axis_label\":\"Number of Reports\",\"formatter\":{\"id\":\"4864b268-0a0f-495c-8662-973d4ed58eac\",\"type\":\"BasicTickFormatter\"},\"plot\":{\"id\":\"0f4eb6ec-f4c6-46f5-b527-d56dfcc29510\",\"subtype\":\"Figure\",\"type\":\"Plot\"},\"ticker\":{\"id\":\"38c8cad9-b251-460b-9057-e47da2484d37\",\"type\":\"BasicTicker\"}},\"id\":\"0ade4cd3-6309-47b7-878b-e2e716fce84e\",\"type\":\"LinearAxis\"},{\"attributes\":{},\"id\":\"4a66d370-107d-404a-9251-2ecba597cea5\",\"type\":\"LinearScale\"},{\"attributes\":{},\"id\":\"4864b268-0a0f-495c-8662-973d4ed58eac\",\"type\":\"BasicTickFormatter\"},{\"attributes\":{\"source\":{\"id\":\"d5d898db-c4cf-424c-9b1a-74c2310e87c0\",\"type\":\"ColumnDataSource\"}},\"id\":\"6267c6f1-5900-4cd7-893b-ad9befc2bfd5\",\"type\":\"CDSView\"},{\"attributes\":{\"callback\":null,\"data\":{\"ARSON\":[249,238,257,257,216,167,114,89,92,78,83,82,109,118,114,135,120,153,148,163,193,188,230,246],\"ASSAULT\":[10644,9089,8264,4207,2652,2116,2821,4187,6394,7027,7813,8265,10289,8920,9045,10160,9998,10187,10019,9777,9682,10067,9631,9140],\"BAD CHECKS\":[159,3,2,3,3,2,3,12,49,65,58,46,186,46,50,62,50,41,20,20,12,9,8,5],\"BRIBERY\":[43,26,27,20,9,9,7,12,16,35,39,31,41,43,39,35,48,55,30,49,45,47,49,42],\"BURGLARY\":[3399,2200,2374,2419,2154,1963,1977,3107,4811,4207,3919,3703,4975,3283,3588,4203,4675,6248,6279,4698,4098,3976,3750,3522],\"DISORDERLY CONDUCT\":[523,383,343,216,159,398,1000,908,679,514,437,392,398,378,349,339,310,294,325,267,253,286,388,411],\"DRIVING UNDER THE INFLUENCE\":[714,650,645,288,108,59,70,46,46,55,26,50,56,65,75,104,144,181,188,231,277,374,503,638],\"DRUG/NARCOTIC\":[3744,2274,1842,1248,909,475,1332,3016,3994,4699,5267,5855,6093,7885,8907,8217,8586,8860,7867,6691,5104,4798,5719,4878],\"DRUNKENNESS\":[821,780,658,259,133,45,80,164,157,174,201,287,282,281,327,361,436,513,569,546,569,621,744,738],\"EMBEZZLEMENT\":[629,12,8,13,12,7,13,35,212,213,162,117,503,108,118,136,116,137,113,81,55,55,34,38],\"EXTORTION\":[81,11,15,8,4,7,9,16,27,31,61,36,73,46,41,44,34,34,29,30,20,24,24,20],\"FAMILY OFFENSES\":[66,25,23,9,5,4,9,28,47,46,63,70,64,90,85,101,75,68,62,62,40,50,39,40],\"FORGERY/COUNTERFEITING\":[3568,197,126,99,72,55,145,274,1110,1429,1207,1069,3324,1422,1299,1546,1404,1298,869,612,573,441,388,312],\"FRAUD\":[5511,738,498,304,200,188,355,673,1916,2105,2047,1658,4961,2248,2103,2464,2187,2255,2010,1558,1357,1111,1091,1195],\"GAMBLING\":[22,1,2,2,1,4,2,5,11,11,20,27,32,30,28,32,20,24,22,14,8,6,9,8],\"KIDNAPPING\":[329,251,257,179,100,99,80,130,157,199,209,172,255,221,220,246,264,260,288,261,265,281,259,293],\"LARCENY/THEFT\":[18602,11503,7516,4706,3050,3069,4837,7637,12876,15298,19080,20991,26986,23982,24866,26438,27628,31426,37456,35074,30589,25794,25303,22950],\"LIQUOR LAWS\":[194,96,90,40,28,13,38,82,116,121,150,159,201,197,175,186,273,444,354,285,179,198,229,221],\"LOITERING\":[78,62,44,36,21,90,151,137,127,99,114,117,109,137,127,90,138,169,149,112,86,91,56,74],\"MISSING PERSON\":[2140,941,790,466,352,484,1111,3526,4322,3571,3597,3375,4516,3360,3477,4023,3646,3464,3496,2901,2793,2638,2573,2144],\"NON-CRIMINAL\":[10570,5752,4482,3056,2224,2203,4099,6741,10091,11291,12590,12581,17216,13430,13400,14023,14127,13230,12506,10898,10118,9930,9778,8987],\"OTHER OFFENSES\":[18552,8722,7215,4781,3604,2817,4121,8198,12718,14325,13950,13830,19761,15285,15393,16260,17914,18695,17157,14649,12593,12660,15744,15098],\"PORNOGRAPHY/OBSCENE MAT\":[5,0,3,2,0,0,3,0,3,3,1,2,4,1,7,2,4,1,3,0,1,3,6,1],\"PROSTITUTION\":[1370,1061,789,544,472,577,516,266,151,158,189,214,484,334,307,234,286,599,1166,1363,1090,1287,1593,1602],\"RECOVERED VEHICLE\":[359,260,218,201,160,99,126,414,468,558,542,557,609,499,439,386,512,447,364,333,276,254,316,317],\"ROBBERY\":[2957,3016,3154,1900,1233,1063,1019,922,1048,1245,1435,1612,1926,2045,2160,2471,2692,2669,2820,3013,3349,3814,3768,3523],\"RUNAWAY\":[119,53,42,20,19,20,72,246,283,216,227,208,240,219,212,248,258,236,308,257,258,210,209,175],\"SECONDARY CODES\":[1473,822,768,547,395,295,423,627,996,1055,1055,1143,1529,1191,1158,1313,1293,1309,1416,1312,1326,1321,1304,1152],\"SEX OFFENSES, FORCIBLE\":[1426,577,593,392,222,176,152,212,424,389,361,339,584,416,432,554,534,550,466,435,531,502,556,588],\"SEX OFFENSES, NON FORCIBLE\":[80,6,2,2,2,4,6,5,19,19,13,23,42,19,23,28,18,17,20,13,16,12,13,18],\"STOLEN PROPERTY\":[546,388,325,248,225,172,195,283,358,385,434,513,665,620,666,711,741,761,734,603,570,503,517,482],\"SUICIDE\":[46,43,30,23,15,22,32,42,51,67,71,71,67,72,69,78,60,73,66,71,57,67,43,39],\"SUSPICIOUS OCC\":[5111,2173,1980,1376,937,762,1247,1996,3458,3888,3879,3962,5880,4252,4224,4599,4388,4210,4159,3692,3354,3339,3187,2770],\"TREA\":[0,0,2,0,0,1,1,1,0,0,1,1,1,0,0,1,1,1,0,1,1,0,1,0],\"TRESPASS\":[557,399,438,360,261,528,1153,1249,1162,1043,1012,970,1040,959,863,947,882,919,853,765,737,718,606,538],\"Unnamed: 0\":[0,1,2,3,4,5,6,7,8,9,10,11,12,13,14,15,16,17,18,19,20,21,22,23],\"VANDALISM\":[6412,4484,4239,2835,1900,1573,1814,2468,3602,3384,3498,3319,4518,3482,3969,4670,5179,6910,8227,7416,7365,7511,7666,6995],\"VEHICLE THEFT\":[4716,3215,2550,1581,1220,1224,1805,3114,4451,4368,4090,3674,5403,3854,4511,5313,6312,8379,10220,8956,9389,9025,9537,8302],\"WARRANTS\":[4007,2731,2274,1755,1347,952,1636,3192,3742,4372,4749,5069,5394,5728,5882,5797,6348,6495,5904,5144,4150,3972,4763,4396],\"WEAPON LAWS\":[1125,830,731,444,312,169,243,434,594,758,798,918,1079,1071,1054,1220,1286,1249,1338,1247,1151,1175,1281,1191],\"hour_of_day\":[0,1,2,3,4,5,6,7,8,9,10,11,12,13,14,15,16,17,18,19,20,21,22,23],\"index\":[0,1,2,3,4,5,6,7,8,9,10,11,12,13,14,15,16,17,18,19,20,21,22,23]},\"selected\":{\"id\":\"0371b949-8296-4038-b88a-29a77bdea807\",\"type\":\"Selection\"},\"selection_policy\":{\"id\":\"0e75d9dd-33a7-4293-8cc2-d0c661d568d7\",\"type\":\"UnionRenderers\"}},\"id\":\"d5d898db-c4cf-424c-9b1a-74c2310e87c0\",\"type\":\"ColumnDataSource\"},{\"attributes\":{\"callback\":null},\"id\":\"cb5467e8-39f0-4ae8-a191-c2e3e1fe9b8e\",\"type\":\"DataRange1d\"},{\"attributes\":{\"fill_alpha\":{\"value\":0.1},\"fill_color\":{\"value\":\"#1f77b4\"},\"line_alpha\":{\"value\":0.1},\"line_color\":{\"value\":\"#1f77b4\"},\"size\":{\"units\":\"screen\",\"value\":15},\"x\":{\"field\":\"hour_of_day\"},\"y\":{\"field\":\"ASSAULT\"}},\"id\":\"b1a20fd9-ef14-43b6-b6aa-8306636f7e55\",\"type\":\"Triangle\"},{\"attributes\":{},\"id\":\"468b4a1c-1232-43b3-b977-4ac9a2ba107d\",\"type\":\"BasicTicker\"},{\"attributes\":{\"callback\":null},\"id\":\"db10c74b-e1a9-4a86-b414-dc4eabbc0ae7\",\"type\":\"DataRange1d\"},{\"attributes\":{\"dimension\":1,\"plot\":{\"id\":\"0f4eb6ec-f4c6-46f5-b527-d56dfcc29510\",\"subtype\":\"Figure\",\"type\":\"Plot\"},\"ticker\":{\"id\":\"38c8cad9-b251-460b-9057-e47da2484d37\",\"type\":\"BasicTicker\"}},\"id\":\"ed1b4a63-5c62-47e6-b22f-ef167316f8e5\",\"type\":\"Grid\"},{\"attributes\":{},\"id\":\"f28f4abe-cd3b-4dce-ac7e-9c7d530b5c82\",\"type\":\"BasicTickFormatter\"},{\"attributes\":{\"below\":[{\"id\":\"23d98009-a4c8-494a-9caa-b773ea87519c\",\"type\":\"LinearAxis\"}],\"left\":[{\"id\":\"0ade4cd3-6309-47b7-878b-e2e716fce84e\",\"type\":\"LinearAxis\"}],\"plot_height\":400,\"plot_width\":400,\"renderers\":[{\"id\":\"23d98009-a4c8-494a-9caa-b773ea87519c\",\"type\":\"LinearAxis\"},{\"id\":\"574e935c-620e-4665-9680-aecb9f541369\",\"type\":\"Grid\"},{\"id\":\"0ade4cd3-6309-47b7-878b-e2e716fce84e\",\"type\":\"LinearAxis\"},{\"id\":\"ed1b4a63-5c62-47e6-b22f-ef167316f8e5\",\"type\":\"Grid\"},{\"id\":\"89c1e420-29c2-44af-b3bc-1a5b9f55aa31\",\"type\":\"BoxAnnotation\"},{\"id\":\"3a54089a-ef31-40d1-b1cf-b3c425c087db\",\"type\":\"GlyphRenderer\"}],\"title\":{\"id\":\"1739e682-19da-4cee-82bb-5c3155a20a82\",\"type\":\"Title\"},\"toolbar\":{\"id\":\"7e0125cd-3d78-4460-aeba-0910e0f75f00\",\"type\":\"Toolbar\"},\"x_range\":{\"id\":\"cb5467e8-39f0-4ae8-a191-c2e3e1fe9b8e\",\"type\":\"DataRange1d\"},\"x_scale\":{\"id\":\"4a66d370-107d-404a-9251-2ecba597cea5\",\"type\":\"LinearScale\"},\"y_range\":{\"id\":\"db10c74b-e1a9-4a86-b414-dc4eabbc0ae7\",\"type\":\"DataRange1d\"},\"y_scale\":{\"id\":\"1f596f6a-f9d2-40af-923e-15e66dc97d1c\",\"type\":\"LinearScale\"}},\"id\":\"0f4eb6ec-f4c6-46f5-b527-d56dfcc29510\",\"subtype\":\"Figure\",\"type\":\"Plot\"},{\"attributes\":{\"bottom_units\":\"screen\",\"fill_alpha\":{\"value\":0.5},\"fill_color\":{\"value\":\"lightgrey\"},\"left_units\":\"screen\",\"level\":\"overlay\",\"line_alpha\":{\"value\":1.0},\"line_color\":{\"value\":\"black\"},\"line_dash\":[4,4],\"line_width\":{\"value\":2},\"plot\":null,\"render_mode\":\"css\",\"right_units\":\"screen\",\"top_units\":\"screen\"},\"id\":\"89c1e420-29c2-44af-b3bc-1a5b9f55aa31\",\"type\":\"BoxAnnotation\"},{\"attributes\":{\"active_drag\":\"auto\",\"active_inspect\":\"auto\",\"active_scroll\":\"auto\",\"active_tap\":\"auto\",\"tools\":[{\"id\":\"bffb1832-70f4-4520-9fc2-27fbeaa1d9c6\",\"type\":\"PanTool\"},{\"id\":\"b882f289-e96a-49e8-a2ca-47041f6b7174\",\"type\":\"WheelZoomTool\"},{\"id\":\"ee08fad7-a782-4776-ab59-350f742a4bfd\",\"type\":\"BoxZoomTool\"},{\"id\":\"ec189f03-d4c6-4f14-bf5d-a25185c16373\",\"type\":\"SaveTool\"},{\"id\":\"d9f0166c-7324-4c95-8a19-1cfb9940ed0e\",\"type\":\"ResetTool\"},{\"id\":\"fe26ebaf-9984-4458-a23e-169c3f5e310b\",\"type\":\"HelpTool\"},{\"id\":\"5e733344-6e0e-40b6-b5da-430ff89f5ac0\",\"type\":\"HoverTool\"}]},\"id\":\"7e0125cd-3d78-4460-aeba-0910e0f75f00\",\"type\":\"Toolbar\"},{\"attributes\":{},\"id\":\"bffb1832-70f4-4520-9fc2-27fbeaa1d9c6\",\"type\":\"PanTool\"},{\"attributes\":{},\"id\":\"38c8cad9-b251-460b-9057-e47da2484d37\",\"type\":\"BasicTicker\"},{\"attributes\":{\"plot\":null,\"text\":\"SFPD Reports of Assault by Hour\"},\"id\":\"1739e682-19da-4cee-82bb-5c3155a20a82\",\"type\":\"Title\"},{\"attributes\":{},\"id\":\"ec189f03-d4c6-4f14-bf5d-a25185c16373\",\"type\":\"SaveTool\"},{\"attributes\":{},\"id\":\"0371b949-8296-4038-b88a-29a77bdea807\",\"type\":\"Selection\"},{\"attributes\":{},\"id\":\"b882f289-e96a-49e8-a2ca-47041f6b7174\",\"type\":\"WheelZoomTool\"},{\"attributes\":{\"overlay\":{\"id\":\"89c1e420-29c2-44af-b3bc-1a5b9f55aa31\",\"type\":\"BoxAnnotation\"}},\"id\":\"ee08fad7-a782-4776-ab59-350f742a4bfd\",\"type\":\"BoxZoomTool\"},{\"attributes\":{\"fill_color\":{\"value\":\"blue\"},\"line_color\":{\"value\":\"blue\"},\"size\":{\"units\":\"screen\",\"value\":15},\"x\":{\"field\":\"hour_of_day\"},\"y\":{\"field\":\"ASSAULT\"}},\"id\":\"36d32c85-f6cd-4f3d-860a-5aa4401473c1\",\"type\":\"Triangle\"}],\"root_ids\":[\"0f4eb6ec-f4c6-46f5-b527-d56dfcc29510\"]},\"title\":\"Bokeh Application\",\"version\":\"0.12.16\"}};\n",
       "  var render_items = [{\"docid\":\"937bfab4-6735-46b3-a490-00fa0b7e12dc\",\"elementid\":\"3f4449d5-0e2b-4038-9553-13dbddacd62e\",\"modelid\":\"0f4eb6ec-f4c6-46f5-b527-d56dfcc29510\"}];\n",
       "  root.Bokeh.embed.embed_items_notebook(docs_json, render_items);\n",
       "\n",
       "  }\n",
       "  if (root.Bokeh !== undefined) {\n",
       "    embed_document(root);\n",
       "  } else {\n",
       "    var attempts = 0;\n",
       "    var timer = setInterval(function(root) {\n",
       "      if (root.Bokeh !== undefined) {\n",
       "        embed_document(root);\n",
       "        clearInterval(timer);\n",
       "      }\n",
       "      attempts++;\n",
       "      if (attempts > 100) {\n",
       "        console.log(\"Bokeh: ERROR: Unable to run BokehJS code because BokehJS library is missing\")\n",
       "        clearInterval(timer);\n",
       "      }\n",
       "    }, 10, root)\n",
       "  }\n",
       "})(window);"
      ],
      "application/vnd.bokehjs_exec.v0+json": ""
     },
     "metadata": {
      "application/vnd.bokehjs_exec.v0+json": {
       "id": "0f4eb6ec-f4c6-46f5-b527-d56dfcc29510"
      }
     },
     "output_type": "display_data"
    }
   ],
   "source": [
    "p2 = figure(plot_width=400, plot_height=400)\n",
    "p2.triangle(x='hour_of_day', y='ASSAULT', \n",
    "         source=source, \n",
    "         size= 15 , color='blue')\n",
    "\n",
    "p2.title.text = 'SFPD Reports of Assault by Hour'\n",
    "p2.xaxis.axis_label = 'Hour of Day'\n",
    "p2.yaxis.axis_label = 'Number of Reports'\n",
    "\n",
    "hover = HoverTool()\n",
    "hover.tooltips=[\n",
    "    ('Hour of Day', '@hour_of_day'),\n",
    "    ('Number of Reports', '@ASSAULT'),\n",
    "]\n",
    "\n",
    "p2.add_tools(hover)\n",
    "\n",
    "\n",
    "show(p2)"
   ]
  },
  {
   "cell_type": "code",
   "execution_count": 8,
   "metadata": {},
   "outputs": [
    {
     "data": {
      "text/html": [
       "\n",
       "<div class=\"bk-root\">\n",
       "    <div class=\"bk-plotdiv\" id=\"3d7ff2b3-5e38-49d6-9f9f-49b891496a5b\"></div>\n",
       "</div>"
      ]
     },
     "metadata": {},
     "output_type": "display_data"
    },
    {
     "data": {
      "application/javascript": [
       "(function(root) {\n",
       "  function embed_document(root) {\n",
       "    \n",
       "  var docs_json = {\"9110c953-9130-4780-8587-c1f0ee0a4d05\":{\"roots\":{\"references\":[{\"attributes\":{\"below\":[{\"id\":\"6929cbba-33ca-44b5-97e8-3dcda945a8b0\",\"type\":\"LinearAxis\"}],\"left\":[{\"id\":\"b638972a-cd31-4738-a9f6-f55a5c8bcb35\",\"type\":\"LinearAxis\"}],\"plot_height\":400,\"plot_width\":400,\"renderers\":[{\"id\":\"6929cbba-33ca-44b5-97e8-3dcda945a8b0\",\"type\":\"LinearAxis\"},{\"id\":\"d99f11c8-ad9e-45bc-817b-49ece57bcd94\",\"type\":\"Grid\"},{\"id\":\"b638972a-cd31-4738-a9f6-f55a5c8bcb35\",\"type\":\"LinearAxis\"},{\"id\":\"98027596-4a25-4d3d-8821-ce1a558f065e\",\"type\":\"Grid\"},{\"id\":\"ca4a8a4b-6476-48ed-b7e0-a54c7926e18f\",\"type\":\"BoxAnnotation\"},{\"id\":\"4b56fb57-ab52-4eab-b442-adbc6cae6026\",\"type\":\"GlyphRenderer\"}],\"title\":{\"id\":\"4ccc6259-dbff-47bc-a65d-a877af36aa76\",\"type\":\"Title\"},\"toolbar\":{\"id\":\"7820e03e-0118-48eb-a120-5a5e3e06bdd9\",\"type\":\"Toolbar\"},\"x_range\":{\"id\":\"7262fdb4-e32c-463a-85b2-0a28f7c20569\",\"type\":\"DataRange1d\"},\"x_scale\":{\"id\":\"87bfb42d-9a63-4d56-8ac3-cf61533deb3e\",\"type\":\"LinearScale\"},\"y_range\":{\"id\":\"f298e942-f204-46ea-a5c4-30c4ceefcc71\",\"type\":\"DataRange1d\"},\"y_scale\":{\"id\":\"a14aa391-6ccd-47d2-985f-dd77d4f643eb\",\"type\":\"LinearScale\"}},\"id\":\"17b2d841-e460-4cfb-927e-4602545c2c2d\",\"subtype\":\"Figure\",\"type\":\"Plot\"},{\"attributes\":{},\"id\":\"7782f890-8825-4b4a-92a8-cc96e4496c17\",\"type\":\"SaveTool\"},{\"attributes\":{},\"id\":\"a14aa391-6ccd-47d2-985f-dd77d4f643eb\",\"type\":\"LinearScale\"},{\"attributes\":{},\"id\":\"87bfb42d-9a63-4d56-8ac3-cf61533deb3e\",\"type\":\"LinearScale\"},{\"attributes\":{\"callback\":null,\"renderers\":\"auto\",\"tooltips\":[[\"Hour of Day\",\"@hour_of_day\"],[\"Number of Reports\",\"@BURGLARY\"]]},\"id\":\"87ddd599-362e-4052-b03a-03e389b07819\",\"type\":\"HoverTool\"},{\"attributes\":{\"plot\":null,\"text\":\"SFPD Reports of Burglary by Hour\"},\"id\":\"4ccc6259-dbff-47bc-a65d-a877af36aa76\",\"type\":\"Title\"},{\"attributes\":{},\"id\":\"0e75d9dd-33a7-4293-8cc2-d0c661d568d7\",\"type\":\"UnionRenderers\"},{\"attributes\":{\"data_source\":{\"id\":\"d5d898db-c4cf-424c-9b1a-74c2310e87c0\",\"type\":\"ColumnDataSource\"},\"glyph\":{\"id\":\"889e075c-fb62-4c96-9670-5d99990aebcd\",\"type\":\"Diamond\"},\"hover_glyph\":null,\"muted_glyph\":null,\"nonselection_glyph\":{\"id\":\"68620946-0cd0-4271-8cf1-0454205a73a6\",\"type\":\"Diamond\"},\"selection_glyph\":null,\"view\":{\"id\":\"af8f4bdc-7a9c-49c6-9ef6-fe8ce353f479\",\"type\":\"CDSView\"}},\"id\":\"4b56fb57-ab52-4eab-b442-adbc6cae6026\",\"type\":\"GlyphRenderer\"},{\"attributes\":{\"dimension\":1,\"plot\":{\"id\":\"17b2d841-e460-4cfb-927e-4602545c2c2d\",\"subtype\":\"Figure\",\"type\":\"Plot\"},\"ticker\":{\"id\":\"e31cf2dd-7a1a-4f6d-9198-9a08773c1975\",\"type\":\"BasicTicker\"}},\"id\":\"98027596-4a25-4d3d-8821-ce1a558f065e\",\"type\":\"Grid\"},{\"attributes\":{\"callback\":null,\"data\":{\"ARSON\":[249,238,257,257,216,167,114,89,92,78,83,82,109,118,114,135,120,153,148,163,193,188,230,246],\"ASSAULT\":[10644,9089,8264,4207,2652,2116,2821,4187,6394,7027,7813,8265,10289,8920,9045,10160,9998,10187,10019,9777,9682,10067,9631,9140],\"BAD CHECKS\":[159,3,2,3,3,2,3,12,49,65,58,46,186,46,50,62,50,41,20,20,12,9,8,5],\"BRIBERY\":[43,26,27,20,9,9,7,12,16,35,39,31,41,43,39,35,48,55,30,49,45,47,49,42],\"BURGLARY\":[3399,2200,2374,2419,2154,1963,1977,3107,4811,4207,3919,3703,4975,3283,3588,4203,4675,6248,6279,4698,4098,3976,3750,3522],\"DISORDERLY CONDUCT\":[523,383,343,216,159,398,1000,908,679,514,437,392,398,378,349,339,310,294,325,267,253,286,388,411],\"DRIVING UNDER THE INFLUENCE\":[714,650,645,288,108,59,70,46,46,55,26,50,56,65,75,104,144,181,188,231,277,374,503,638],\"DRUG/NARCOTIC\":[3744,2274,1842,1248,909,475,1332,3016,3994,4699,5267,5855,6093,7885,8907,8217,8586,8860,7867,6691,5104,4798,5719,4878],\"DRUNKENNESS\":[821,780,658,259,133,45,80,164,157,174,201,287,282,281,327,361,436,513,569,546,569,621,744,738],\"EMBEZZLEMENT\":[629,12,8,13,12,7,13,35,212,213,162,117,503,108,118,136,116,137,113,81,55,55,34,38],\"EXTORTION\":[81,11,15,8,4,7,9,16,27,31,61,36,73,46,41,44,34,34,29,30,20,24,24,20],\"FAMILY OFFENSES\":[66,25,23,9,5,4,9,28,47,46,63,70,64,90,85,101,75,68,62,62,40,50,39,40],\"FORGERY/COUNTERFEITING\":[3568,197,126,99,72,55,145,274,1110,1429,1207,1069,3324,1422,1299,1546,1404,1298,869,612,573,441,388,312],\"FRAUD\":[5511,738,498,304,200,188,355,673,1916,2105,2047,1658,4961,2248,2103,2464,2187,2255,2010,1558,1357,1111,1091,1195],\"GAMBLING\":[22,1,2,2,1,4,2,5,11,11,20,27,32,30,28,32,20,24,22,14,8,6,9,8],\"KIDNAPPING\":[329,251,257,179,100,99,80,130,157,199,209,172,255,221,220,246,264,260,288,261,265,281,259,293],\"LARCENY/THEFT\":[18602,11503,7516,4706,3050,3069,4837,7637,12876,15298,19080,20991,26986,23982,24866,26438,27628,31426,37456,35074,30589,25794,25303,22950],\"LIQUOR LAWS\":[194,96,90,40,28,13,38,82,116,121,150,159,201,197,175,186,273,444,354,285,179,198,229,221],\"LOITERING\":[78,62,44,36,21,90,151,137,127,99,114,117,109,137,127,90,138,169,149,112,86,91,56,74],\"MISSING PERSON\":[2140,941,790,466,352,484,1111,3526,4322,3571,3597,3375,4516,3360,3477,4023,3646,3464,3496,2901,2793,2638,2573,2144],\"NON-CRIMINAL\":[10570,5752,4482,3056,2224,2203,4099,6741,10091,11291,12590,12581,17216,13430,13400,14023,14127,13230,12506,10898,10118,9930,9778,8987],\"OTHER OFFENSES\":[18552,8722,7215,4781,3604,2817,4121,8198,12718,14325,13950,13830,19761,15285,15393,16260,17914,18695,17157,14649,12593,12660,15744,15098],\"PORNOGRAPHY/OBSCENE MAT\":[5,0,3,2,0,0,3,0,3,3,1,2,4,1,7,2,4,1,3,0,1,3,6,1],\"PROSTITUTION\":[1370,1061,789,544,472,577,516,266,151,158,189,214,484,334,307,234,286,599,1166,1363,1090,1287,1593,1602],\"RECOVERED VEHICLE\":[359,260,218,201,160,99,126,414,468,558,542,557,609,499,439,386,512,447,364,333,276,254,316,317],\"ROBBERY\":[2957,3016,3154,1900,1233,1063,1019,922,1048,1245,1435,1612,1926,2045,2160,2471,2692,2669,2820,3013,3349,3814,3768,3523],\"RUNAWAY\":[119,53,42,20,19,20,72,246,283,216,227,208,240,219,212,248,258,236,308,257,258,210,209,175],\"SECONDARY CODES\":[1473,822,768,547,395,295,423,627,996,1055,1055,1143,1529,1191,1158,1313,1293,1309,1416,1312,1326,1321,1304,1152],\"SEX OFFENSES, FORCIBLE\":[1426,577,593,392,222,176,152,212,424,389,361,339,584,416,432,554,534,550,466,435,531,502,556,588],\"SEX OFFENSES, NON FORCIBLE\":[80,6,2,2,2,4,6,5,19,19,13,23,42,19,23,28,18,17,20,13,16,12,13,18],\"STOLEN PROPERTY\":[546,388,325,248,225,172,195,283,358,385,434,513,665,620,666,711,741,761,734,603,570,503,517,482],\"SUICIDE\":[46,43,30,23,15,22,32,42,51,67,71,71,67,72,69,78,60,73,66,71,57,67,43,39],\"SUSPICIOUS OCC\":[5111,2173,1980,1376,937,762,1247,1996,3458,3888,3879,3962,5880,4252,4224,4599,4388,4210,4159,3692,3354,3339,3187,2770],\"TREA\":[0,0,2,0,0,1,1,1,0,0,1,1,1,0,0,1,1,1,0,1,1,0,1,0],\"TRESPASS\":[557,399,438,360,261,528,1153,1249,1162,1043,1012,970,1040,959,863,947,882,919,853,765,737,718,606,538],\"Unnamed: 0\":[0,1,2,3,4,5,6,7,8,9,10,11,12,13,14,15,16,17,18,19,20,21,22,23],\"VANDALISM\":[6412,4484,4239,2835,1900,1573,1814,2468,3602,3384,3498,3319,4518,3482,3969,4670,5179,6910,8227,7416,7365,7511,7666,6995],\"VEHICLE THEFT\":[4716,3215,2550,1581,1220,1224,1805,3114,4451,4368,4090,3674,5403,3854,4511,5313,6312,8379,10220,8956,9389,9025,9537,8302],\"WARRANTS\":[4007,2731,2274,1755,1347,952,1636,3192,3742,4372,4749,5069,5394,5728,5882,5797,6348,6495,5904,5144,4150,3972,4763,4396],\"WEAPON LAWS\":[1125,830,731,444,312,169,243,434,594,758,798,918,1079,1071,1054,1220,1286,1249,1338,1247,1151,1175,1281,1191],\"hour_of_day\":[0,1,2,3,4,5,6,7,8,9,10,11,12,13,14,15,16,17,18,19,20,21,22,23],\"index\":[0,1,2,3,4,5,6,7,8,9,10,11,12,13,14,15,16,17,18,19,20,21,22,23]},\"selected\":{\"id\":\"0371b949-8296-4038-b88a-29a77bdea807\",\"type\":\"Selection\"},\"selection_policy\":{\"id\":\"0e75d9dd-33a7-4293-8cc2-d0c661d568d7\",\"type\":\"UnionRenderers\"}},\"id\":\"d5d898db-c4cf-424c-9b1a-74c2310e87c0\",\"type\":\"ColumnDataSource\"},{\"attributes\":{},\"id\":\"14dbe39a-2cd0-437d-9bef-eb8e65e01393\",\"type\":\"BasicTicker\"},{\"attributes\":{\"bottom_units\":\"screen\",\"fill_alpha\":{\"value\":0.5},\"fill_color\":{\"value\":\"lightgrey\"},\"left_units\":\"screen\",\"level\":\"overlay\",\"line_alpha\":{\"value\":1.0},\"line_color\":{\"value\":\"black\"},\"line_dash\":[4,4],\"line_width\":{\"value\":2},\"plot\":null,\"render_mode\":\"css\",\"right_units\":\"screen\",\"top_units\":\"screen\"},\"id\":\"ca4a8a4b-6476-48ed-b7e0-a54c7926e18f\",\"type\":\"BoxAnnotation\"},{\"attributes\":{},\"id\":\"e31cf2dd-7a1a-4f6d-9198-9a08773c1975\",\"type\":\"BasicTicker\"},{\"attributes\":{\"axis_label\":\"Hour of Day\",\"formatter\":{\"id\":\"c79f6511-a23e-4ecf-b547-7e1d8594b4ce\",\"type\":\"BasicTickFormatter\"},\"plot\":{\"id\":\"17b2d841-e460-4cfb-927e-4602545c2c2d\",\"subtype\":\"Figure\",\"type\":\"Plot\"},\"ticker\":{\"id\":\"14dbe39a-2cd0-437d-9bef-eb8e65e01393\",\"type\":\"BasicTicker\"}},\"id\":\"6929cbba-33ca-44b5-97e8-3dcda945a8b0\",\"type\":\"LinearAxis\"},{\"attributes\":{},\"id\":\"5d498d68-e489-453e-aa04-37eee5b93e74\",\"type\":\"WheelZoomTool\"},{\"attributes\":{\"overlay\":{\"id\":\"ca4a8a4b-6476-48ed-b7e0-a54c7926e18f\",\"type\":\"BoxAnnotation\"}},\"id\":\"ecb643e4-8158-40a3-a9ac-8e8cfe758c04\",\"type\":\"BoxZoomTool\"},{\"attributes\":{\"plot\":{\"id\":\"17b2d841-e460-4cfb-927e-4602545c2c2d\",\"subtype\":\"Figure\",\"type\":\"Plot\"},\"ticker\":{\"id\":\"14dbe39a-2cd0-437d-9bef-eb8e65e01393\",\"type\":\"BasicTicker\"}},\"id\":\"d99f11c8-ad9e-45bc-817b-49ece57bcd94\",\"type\":\"Grid\"},{\"attributes\":{},\"id\":\"c79f6511-a23e-4ecf-b547-7e1d8594b4ce\",\"type\":\"BasicTickFormatter\"},{\"attributes\":{\"callback\":null},\"id\":\"f298e942-f204-46ea-a5c4-30c4ceefcc71\",\"type\":\"DataRange1d\"},{\"attributes\":{\"axis_label\":\"Number of Reports\",\"formatter\":{\"id\":\"69d8ce47-f43f-4e53-b5c0-0ac6e8340dcf\",\"type\":\"BasicTickFormatter\"},\"plot\":{\"id\":\"17b2d841-e460-4cfb-927e-4602545c2c2d\",\"subtype\":\"Figure\",\"type\":\"Plot\"},\"ticker\":{\"id\":\"e31cf2dd-7a1a-4f6d-9198-9a08773c1975\",\"type\":\"BasicTicker\"}},\"id\":\"b638972a-cd31-4738-a9f6-f55a5c8bcb35\",\"type\":\"LinearAxis\"},{\"attributes\":{},\"id\":\"e48007b0-f971-4a2c-b8f6-d9c1c807f1ba\",\"type\":\"HelpTool\"},{\"attributes\":{\"fill_alpha\":{\"value\":0.1},\"fill_color\":{\"value\":\"#1f77b4\"},\"line_alpha\":{\"value\":0.1},\"line_color\":{\"value\":\"#1f77b4\"},\"size\":{\"units\":\"screen\",\"value\":15},\"x\":{\"field\":\"hour_of_day\"},\"y\":{\"field\":\"BURGLARY\"}},\"id\":\"68620946-0cd0-4271-8cf1-0454205a73a6\",\"type\":\"Diamond\"},{\"attributes\":{\"fill_color\":{\"value\":\"purple\"},\"line_color\":{\"value\":\"purple\"},\"size\":{\"units\":\"screen\",\"value\":15},\"x\":{\"field\":\"hour_of_day\"},\"y\":{\"field\":\"BURGLARY\"}},\"id\":\"889e075c-fb62-4c96-9670-5d99990aebcd\",\"type\":\"Diamond\"},{\"attributes\":{},\"id\":\"95168465-b79c-4b8f-9495-c7af1015816d\",\"type\":\"ResetTool\"},{\"attributes\":{\"callback\":null},\"id\":\"7262fdb4-e32c-463a-85b2-0a28f7c20569\",\"type\":\"DataRange1d\"},{\"attributes\":{},\"id\":\"69d8ce47-f43f-4e53-b5c0-0ac6e8340dcf\",\"type\":\"BasicTickFormatter\"},{\"attributes\":{},\"id\":\"f9e83c49-a02f-43e4-83f9-32601aec903b\",\"type\":\"PanTool\"},{\"attributes\":{\"active_drag\":\"auto\",\"active_inspect\":\"auto\",\"active_scroll\":\"auto\",\"active_tap\":\"auto\",\"tools\":[{\"id\":\"f9e83c49-a02f-43e4-83f9-32601aec903b\",\"type\":\"PanTool\"},{\"id\":\"5d498d68-e489-453e-aa04-37eee5b93e74\",\"type\":\"WheelZoomTool\"},{\"id\":\"ecb643e4-8158-40a3-a9ac-8e8cfe758c04\",\"type\":\"BoxZoomTool\"},{\"id\":\"7782f890-8825-4b4a-92a8-cc96e4496c17\",\"type\":\"SaveTool\"},{\"id\":\"95168465-b79c-4b8f-9495-c7af1015816d\",\"type\":\"ResetTool\"},{\"id\":\"e48007b0-f971-4a2c-b8f6-d9c1c807f1ba\",\"type\":\"HelpTool\"},{\"id\":\"87ddd599-362e-4052-b03a-03e389b07819\",\"type\":\"HoverTool\"}]},\"id\":\"7820e03e-0118-48eb-a120-5a5e3e06bdd9\",\"type\":\"Toolbar\"},{\"attributes\":{},\"id\":\"0371b949-8296-4038-b88a-29a77bdea807\",\"type\":\"Selection\"},{\"attributes\":{\"source\":{\"id\":\"d5d898db-c4cf-424c-9b1a-74c2310e87c0\",\"type\":\"ColumnDataSource\"}},\"id\":\"af8f4bdc-7a9c-49c6-9ef6-fe8ce353f479\",\"type\":\"CDSView\"}],\"root_ids\":[\"17b2d841-e460-4cfb-927e-4602545c2c2d\"]},\"title\":\"Bokeh Application\",\"version\":\"0.12.16\"}};\n",
       "  var render_items = [{\"docid\":\"9110c953-9130-4780-8587-c1f0ee0a4d05\",\"elementid\":\"3d7ff2b3-5e38-49d6-9f9f-49b891496a5b\",\"modelid\":\"17b2d841-e460-4cfb-927e-4602545c2c2d\"}];\n",
       "  root.Bokeh.embed.embed_items_notebook(docs_json, render_items);\n",
       "\n",
       "  }\n",
       "  if (root.Bokeh !== undefined) {\n",
       "    embed_document(root);\n",
       "  } else {\n",
       "    var attempts = 0;\n",
       "    var timer = setInterval(function(root) {\n",
       "      if (root.Bokeh !== undefined) {\n",
       "        embed_document(root);\n",
       "        clearInterval(timer);\n",
       "      }\n",
       "      attempts++;\n",
       "      if (attempts > 100) {\n",
       "        console.log(\"Bokeh: ERROR: Unable to run BokehJS code because BokehJS library is missing\")\n",
       "        clearInterval(timer);\n",
       "      }\n",
       "    }, 10, root)\n",
       "  }\n",
       "})(window);"
      ],
      "application/vnd.bokehjs_exec.v0+json": ""
     },
     "metadata": {
      "application/vnd.bokehjs_exec.v0+json": {
       "id": "17b2d841-e460-4cfb-927e-4602545c2c2d"
      }
     },
     "output_type": "display_data"
    }
   ],
   "source": [
    "p3 = figure(plot_width=400, plot_height=400)\n",
    "p3.diamond(x='hour_of_day', y='BURGLARY', \n",
    "         source=source, \n",
    "         size= 15 , color='purple')\n",
    "\n",
    "p3.title.text = 'SFPD Reports of Burglary by Hour'\n",
    "p3.xaxis.axis_label = 'Hour of Day'\n",
    "p3.yaxis.axis_label = 'Number of Reports'\n",
    "\n",
    "hover = HoverTool()\n",
    "hover.tooltips=[\n",
    "    ('Hour of Day', '@hour_of_day'),\n",
    "    ('Number of Reports', '@BURGLARY'),\n",
    "]\n",
    "\n",
    "p3.add_tools(hover)\n",
    "\n",
    "\n",
    "show(p3)"
   ]
  },
  {
   "cell_type": "code",
   "execution_count": 17,
   "metadata": {},
   "outputs": [
    {
     "data": {
      "text/html": [
       "\n",
       "<div class=\"bk-root\">\n",
       "    <div class=\"bk-plotdiv\" id=\"fb69f0be-df63-48b5-a4a0-c77c248b1c76\"></div>\n",
       "</div>"
      ]
     },
     "metadata": {},
     "output_type": "display_data"
    },
    {
     "data": {
      "application/javascript": [
       "(function(root) {\n",
       "  function embed_document(root) {\n",
       "    \n",
       "  var docs_json = {\"738f481f-3232-4853-90ae-e2bcc542e75e\":{\"roots\":{\"references\":[{\"attributes\":{\"fill_alpha\":{\"value\":0.1},\"fill_color\":{\"value\":\"#1f77b4\"},\"line_alpha\":{\"value\":0.1},\"line_color\":{\"value\":\"#1f77b4\"},\"size\":{\"units\":\"screen\",\"value\":15},\"x\":{\"field\":\"hour_of_day\"},\"y\":{\"field\":\"DRUG/NARCOTIC\"}},\"id\":\"5e3fbdbd-ba63-4aa2-ad01-96b98475b1f9\",\"type\":\"Circle\"},{\"attributes\":{\"fill_color\":{\"value\":\"blue\"},\"line_color\":{\"value\":\"blue\"},\"size\":{\"units\":\"screen\",\"value\":15},\"x\":{\"field\":\"hour_of_day\"},\"y\":{\"field\":\"ASSAULT\"}},\"id\":\"e35cf3e7-49bd-4462-8636-6d642ffac0ab\",\"type\":\"Triangle\"},{\"attributes\":{\"fill_color\":{\"value\":\"red\"},\"line_color\":{\"value\":\"red\"},\"size\":{\"units\":\"screen\",\"value\":15},\"x\":{\"field\":\"hour_of_day\"},\"y\":{\"field\":\"DRUG/NARCOTIC\"}},\"id\":\"1b41b43f-4dc3-4fdc-9feb-aa90e7857241\",\"type\":\"Circle\"},{\"attributes\":{\"data_source\":{\"id\":\"d5d898db-c4cf-424c-9b1a-74c2310e87c0\",\"type\":\"ColumnDataSource\"},\"glyph\":{\"id\":\"1b41b43f-4dc3-4fdc-9feb-aa90e7857241\",\"type\":\"Circle\"},\"hover_glyph\":null,\"muted_glyph\":null,\"nonselection_glyph\":{\"id\":\"5e3fbdbd-ba63-4aa2-ad01-96b98475b1f9\",\"type\":\"Circle\"},\"selection_glyph\":null,\"view\":{\"id\":\"a49499d1-8ac4-4633-8d73-8297571afb7d\",\"type\":\"CDSView\"}},\"id\":\"b26161b9-4677-4baa-b46f-b79799218755\",\"type\":\"GlyphRenderer\"},{\"attributes\":{\"dimension\":1,\"plot\":{\"id\":\"6400ee1a-b8af-43f0-8b7b-16f45485d7bf\",\"subtype\":\"Figure\",\"type\":\"Plot\"},\"ticker\":{\"id\":\"1db88112-8924-49fc-b27b-745f64693353\",\"type\":\"BasicTicker\"}},\"id\":\"e68aaf28-8eec-47d2-b29e-4294e430b228\",\"type\":\"Grid\"},{\"attributes\":{},\"id\":\"0e75d9dd-33a7-4293-8cc2-d0c661d568d7\",\"type\":\"UnionRenderers\"},{\"attributes\":{\"label\":{\"value\":\"Drugs\"},\"renderers\":[{\"id\":\"b26161b9-4677-4baa-b46f-b79799218755\",\"type\":\"GlyphRenderer\"}]},\"id\":\"aae2aba2-3261-415f-8a47-6313a0cac67f\",\"type\":\"LegendItem\"},{\"attributes\":{},\"id\":\"1db88112-8924-49fc-b27b-745f64693353\",\"type\":\"BasicTicker\"},{\"attributes\":{\"axis_label\":\"Number of Reports\",\"formatter\":{\"id\":\"606e8dbf-bc3e-4a35-ac34-c17ed7750c08\",\"type\":\"BasicTickFormatter\"},\"plot\":{\"id\":\"6400ee1a-b8af-43f0-8b7b-16f45485d7bf\",\"subtype\":\"Figure\",\"type\":\"Plot\"},\"ticker\":{\"id\":\"1db88112-8924-49fc-b27b-745f64693353\",\"type\":\"BasicTicker\"}},\"id\":\"99fad8f0-af4c-4f7a-91e0-d5788fefcf38\",\"type\":\"LinearAxis\"},{\"attributes\":{},\"id\":\"9af22af1-76cd-489c-aa06-1d0b1e7cbeea\",\"type\":\"BasicTicker\"},{\"attributes\":{\"axis_label\":\"Hour of Day\",\"formatter\":{\"id\":\"0ea5dab6-55e1-4d84-9436-1cfceac7264e\",\"type\":\"BasicTickFormatter\"},\"plot\":{\"id\":\"6400ee1a-b8af-43f0-8b7b-16f45485d7bf\",\"subtype\":\"Figure\",\"type\":\"Plot\"},\"ticker\":{\"id\":\"9af22af1-76cd-489c-aa06-1d0b1e7cbeea\",\"type\":\"BasicTicker\"}},\"id\":\"b7c0ea60-9acf-40d9-8c7e-740551a96414\",\"type\":\"LinearAxis\"},{\"attributes\":{},\"id\":\"7144903f-81d5-4aaf-8b4f-32a216304cd7\",\"type\":\"WheelZoomTool\"},{\"attributes\":{},\"id\":\"606e8dbf-bc3e-4a35-ac34-c17ed7750c08\",\"type\":\"BasicTickFormatter\"},{\"attributes\":{},\"id\":\"f0892280-442c-4c85-9121-131c29ef5b29\",\"type\":\"PanTool\"},{\"attributes\":{\"source\":{\"id\":\"d5d898db-c4cf-424c-9b1a-74c2310e87c0\",\"type\":\"ColumnDataSource\"}},\"id\":\"ed3832a0-38c9-416d-822e-4d52ce4e3904\",\"type\":\"CDSView\"},{\"attributes\":{\"source\":{\"id\":\"d5d898db-c4cf-424c-9b1a-74c2310e87c0\",\"type\":\"ColumnDataSource\"}},\"id\":\"b750d4eb-579a-42b0-a4eb-4c36ec45d9fa\",\"type\":\"CDSView\"},{\"attributes\":{\"below\":[{\"id\":\"b7c0ea60-9acf-40d9-8c7e-740551a96414\",\"type\":\"LinearAxis\"}],\"left\":[{\"id\":\"99fad8f0-af4c-4f7a-91e0-d5788fefcf38\",\"type\":\"LinearAxis\"}],\"renderers\":[{\"id\":\"b7c0ea60-9acf-40d9-8c7e-740551a96414\",\"type\":\"LinearAxis\"},{\"id\":\"c7b659c9-2179-4128-970e-9af7efcb106c\",\"type\":\"Grid\"},{\"id\":\"99fad8f0-af4c-4f7a-91e0-d5788fefcf38\",\"type\":\"LinearAxis\"},{\"id\":\"e68aaf28-8eec-47d2-b29e-4294e430b228\",\"type\":\"Grid\"},{\"id\":\"b3503051-a556-4670-89c3-e68ac38fac89\",\"type\":\"BoxAnnotation\"},{\"id\":\"c9942bcb-36d3-4ddd-8854-bc8eb7e12124\",\"type\":\"Legend\"},{\"id\":\"b26161b9-4677-4baa-b46f-b79799218755\",\"type\":\"GlyphRenderer\"},{\"id\":\"bbd308af-c19f-4459-95d0-91eaf69ea5de\",\"type\":\"GlyphRenderer\"},{\"id\":\"de11c998-87b1-4154-b5c1-5fb42f73b54a\",\"type\":\"GlyphRenderer\"}],\"title\":{\"id\":\"1d1ee0dc-10b9-4dc3-ae59-85f0801d8a5e\",\"type\":\"Title\"},\"toolbar\":{\"id\":\"c806cc55-89c8-4a2d-adf1-70534265a4a6\",\"type\":\"Toolbar\"},\"x_range\":{\"id\":\"031cd4e0-adc9-48d7-a383-8c9e9587bd18\",\"type\":\"DataRange1d\"},\"x_scale\":{\"id\":\"12399edd-8383-4722-928b-918e13f4a6d9\",\"type\":\"LinearScale\"},\"y_range\":{\"id\":\"6927edb7-da8c-4fc1-822f-3d629367ad97\",\"type\":\"DataRange1d\"},\"y_scale\":{\"id\":\"6c374fc9-eaca-4c79-a4a9-7f483a9fb071\",\"type\":\"LinearScale\"}},\"id\":\"6400ee1a-b8af-43f0-8b7b-16f45485d7bf\",\"subtype\":\"Figure\",\"type\":\"Plot\"},{\"attributes\":{},\"id\":\"932f740e-3933-4292-bace-e9493c5e4cdb\",\"type\":\"ResetTool\"},{\"attributes\":{},\"id\":\"dadd4a8b-1914-47e1-9db2-462d23490c13\",\"type\":\"SaveTool\"},{\"attributes\":{},\"id\":\"0ea5dab6-55e1-4d84-9436-1cfceac7264e\",\"type\":\"BasicTickFormatter\"},{\"attributes\":{\"fill_color\":{\"value\":\"purple\"},\"line_color\":{\"value\":\"purple\"},\"size\":{\"units\":\"screen\",\"value\":15},\"x\":{\"field\":\"hour_of_day\"},\"y\":{\"field\":\"BURGLARY\"}},\"id\":\"a36cccb8-f2db-4b8e-9fe0-65ab2d166339\",\"type\":\"Diamond\"},{\"attributes\":{},\"id\":\"be03eb0b-d7a7-4370-bac1-f66887f5dfa7\",\"type\":\"HelpTool\"},{\"attributes\":{\"overlay\":{\"id\":\"b3503051-a556-4670-89c3-e68ac38fac89\",\"type\":\"BoxAnnotation\"}},\"id\":\"3500b09b-587a-4ea2-801c-5a80f6a79da1\",\"type\":\"BoxZoomTool\"},{\"attributes\":{\"data_source\":{\"id\":\"d5d898db-c4cf-424c-9b1a-74c2310e87c0\",\"type\":\"ColumnDataSource\"},\"glyph\":{\"id\":\"e35cf3e7-49bd-4462-8636-6d642ffac0ab\",\"type\":\"Triangle\"},\"hover_glyph\":null,\"muted_glyph\":null,\"nonselection_glyph\":{\"id\":\"25c6deb9-3ffa-4375-a9fc-bd9b8260ec81\",\"type\":\"Triangle\"},\"selection_glyph\":null,\"view\":{\"id\":\"ed3832a0-38c9-416d-822e-4d52ce4e3904\",\"type\":\"CDSView\"}},\"id\":\"bbd308af-c19f-4459-95d0-91eaf69ea5de\",\"type\":\"GlyphRenderer\"},{\"attributes\":{\"items\":[{\"id\":\"aae2aba2-3261-415f-8a47-6313a0cac67f\",\"type\":\"LegendItem\"},{\"id\":\"0fa9302b-4758-4c4d-a4b5-fae7c850fb4b\",\"type\":\"LegendItem\"},{\"id\":\"0bc3d316-ecc5-410a-8faf-46f3dccd0856\",\"type\":\"LegendItem\"}],\"location\":\"bottom_right\",\"plot\":{\"id\":\"6400ee1a-b8af-43f0-8b7b-16f45485d7bf\",\"subtype\":\"Figure\",\"type\":\"Plot\"}},\"id\":\"c9942bcb-36d3-4ddd-8854-bc8eb7e12124\",\"type\":\"Legend\"},{\"attributes\":{\"fill_alpha\":{\"value\":0.1},\"fill_color\":{\"value\":\"#1f77b4\"},\"line_alpha\":{\"value\":0.1},\"line_color\":{\"value\":\"#1f77b4\"},\"size\":{\"units\":\"screen\",\"value\":15},\"x\":{\"field\":\"hour_of_day\"},\"y\":{\"field\":\"ASSAULT\"}},\"id\":\"25c6deb9-3ffa-4375-a9fc-bd9b8260ec81\",\"type\":\"Triangle\"},{\"attributes\":{\"plot\":null,\"text\":\"SFPD Crime Reports by Hour\"},\"id\":\"1d1ee0dc-10b9-4dc3-ae59-85f0801d8a5e\",\"type\":\"Title\"},{\"attributes\":{\"label\":{\"value\":\"Burglary\"},\"renderers\":[{\"id\":\"de11c998-87b1-4154-b5c1-5fb42f73b54a\",\"type\":\"GlyphRenderer\"}]},\"id\":\"0bc3d316-ecc5-410a-8faf-46f3dccd0856\",\"type\":\"LegendItem\"},{\"attributes\":{\"callback\":null,\"renderers\":\"auto\",\"tooltips\":[[\"Hour of Day\",\"@hour_of_day\"],[\"Number of Reports\",\"@ARSON\"]]},\"id\":\"dc3f3cf6-334d-4aa8-8c27-fd57c743c3d2\",\"type\":\"HoverTool\"},{\"attributes\":{\"fill_alpha\":{\"value\":0.1},\"fill_color\":{\"value\":\"#1f77b4\"},\"line_alpha\":{\"value\":0.1},\"line_color\":{\"value\":\"#1f77b4\"},\"size\":{\"units\":\"screen\",\"value\":15},\"x\":{\"field\":\"hour_of_day\"},\"y\":{\"field\":\"BURGLARY\"}},\"id\":\"00804b46-53c4-4cda-ba93-e2c10a2aa9d1\",\"type\":\"Diamond\"},{\"attributes\":{\"callback\":null,\"data\":{\"ARSON\":[249,238,257,257,216,167,114,89,92,78,83,82,109,118,114,135,120,153,148,163,193,188,230,246],\"ASSAULT\":[10644,9089,8264,4207,2652,2116,2821,4187,6394,7027,7813,8265,10289,8920,9045,10160,9998,10187,10019,9777,9682,10067,9631,9140],\"BAD CHECKS\":[159,3,2,3,3,2,3,12,49,65,58,46,186,46,50,62,50,41,20,20,12,9,8,5],\"BRIBERY\":[43,26,27,20,9,9,7,12,16,35,39,31,41,43,39,35,48,55,30,49,45,47,49,42],\"BURGLARY\":[3399,2200,2374,2419,2154,1963,1977,3107,4811,4207,3919,3703,4975,3283,3588,4203,4675,6248,6279,4698,4098,3976,3750,3522],\"DISORDERLY CONDUCT\":[523,383,343,216,159,398,1000,908,679,514,437,392,398,378,349,339,310,294,325,267,253,286,388,411],\"DRIVING UNDER THE INFLUENCE\":[714,650,645,288,108,59,70,46,46,55,26,50,56,65,75,104,144,181,188,231,277,374,503,638],\"DRUG/NARCOTIC\":[3744,2274,1842,1248,909,475,1332,3016,3994,4699,5267,5855,6093,7885,8907,8217,8586,8860,7867,6691,5104,4798,5719,4878],\"DRUNKENNESS\":[821,780,658,259,133,45,80,164,157,174,201,287,282,281,327,361,436,513,569,546,569,621,744,738],\"EMBEZZLEMENT\":[629,12,8,13,12,7,13,35,212,213,162,117,503,108,118,136,116,137,113,81,55,55,34,38],\"EXTORTION\":[81,11,15,8,4,7,9,16,27,31,61,36,73,46,41,44,34,34,29,30,20,24,24,20],\"FAMILY OFFENSES\":[66,25,23,9,5,4,9,28,47,46,63,70,64,90,85,101,75,68,62,62,40,50,39,40],\"FORGERY/COUNTERFEITING\":[3568,197,126,99,72,55,145,274,1110,1429,1207,1069,3324,1422,1299,1546,1404,1298,869,612,573,441,388,312],\"FRAUD\":[5511,738,498,304,200,188,355,673,1916,2105,2047,1658,4961,2248,2103,2464,2187,2255,2010,1558,1357,1111,1091,1195],\"GAMBLING\":[22,1,2,2,1,4,2,5,11,11,20,27,32,30,28,32,20,24,22,14,8,6,9,8],\"KIDNAPPING\":[329,251,257,179,100,99,80,130,157,199,209,172,255,221,220,246,264,260,288,261,265,281,259,293],\"LARCENY/THEFT\":[18602,11503,7516,4706,3050,3069,4837,7637,12876,15298,19080,20991,26986,23982,24866,26438,27628,31426,37456,35074,30589,25794,25303,22950],\"LIQUOR LAWS\":[194,96,90,40,28,13,38,82,116,121,150,159,201,197,175,186,273,444,354,285,179,198,229,221],\"LOITERING\":[78,62,44,36,21,90,151,137,127,99,114,117,109,137,127,90,138,169,149,112,86,91,56,74],\"MISSING PERSON\":[2140,941,790,466,352,484,1111,3526,4322,3571,3597,3375,4516,3360,3477,4023,3646,3464,3496,2901,2793,2638,2573,2144],\"NON-CRIMINAL\":[10570,5752,4482,3056,2224,2203,4099,6741,10091,11291,12590,12581,17216,13430,13400,14023,14127,13230,12506,10898,10118,9930,9778,8987],\"OTHER OFFENSES\":[18552,8722,7215,4781,3604,2817,4121,8198,12718,14325,13950,13830,19761,15285,15393,16260,17914,18695,17157,14649,12593,12660,15744,15098],\"PORNOGRAPHY/OBSCENE MAT\":[5,0,3,2,0,0,3,0,3,3,1,2,4,1,7,2,4,1,3,0,1,3,6,1],\"PROSTITUTION\":[1370,1061,789,544,472,577,516,266,151,158,189,214,484,334,307,234,286,599,1166,1363,1090,1287,1593,1602],\"RECOVERED VEHICLE\":[359,260,218,201,160,99,126,414,468,558,542,557,609,499,439,386,512,447,364,333,276,254,316,317],\"ROBBERY\":[2957,3016,3154,1900,1233,1063,1019,922,1048,1245,1435,1612,1926,2045,2160,2471,2692,2669,2820,3013,3349,3814,3768,3523],\"RUNAWAY\":[119,53,42,20,19,20,72,246,283,216,227,208,240,219,212,248,258,236,308,257,258,210,209,175],\"SECONDARY CODES\":[1473,822,768,547,395,295,423,627,996,1055,1055,1143,1529,1191,1158,1313,1293,1309,1416,1312,1326,1321,1304,1152],\"SEX OFFENSES, FORCIBLE\":[1426,577,593,392,222,176,152,212,424,389,361,339,584,416,432,554,534,550,466,435,531,502,556,588],\"SEX OFFENSES, NON FORCIBLE\":[80,6,2,2,2,4,6,5,19,19,13,23,42,19,23,28,18,17,20,13,16,12,13,18],\"STOLEN PROPERTY\":[546,388,325,248,225,172,195,283,358,385,434,513,665,620,666,711,741,761,734,603,570,503,517,482],\"SUICIDE\":[46,43,30,23,15,22,32,42,51,67,71,71,67,72,69,78,60,73,66,71,57,67,43,39],\"SUSPICIOUS OCC\":[5111,2173,1980,1376,937,762,1247,1996,3458,3888,3879,3962,5880,4252,4224,4599,4388,4210,4159,3692,3354,3339,3187,2770],\"TREA\":[0,0,2,0,0,1,1,1,0,0,1,1,1,0,0,1,1,1,0,1,1,0,1,0],\"TRESPASS\":[557,399,438,360,261,528,1153,1249,1162,1043,1012,970,1040,959,863,947,882,919,853,765,737,718,606,538],\"Unnamed: 0\":[0,1,2,3,4,5,6,7,8,9,10,11,12,13,14,15,16,17,18,19,20,21,22,23],\"VANDALISM\":[6412,4484,4239,2835,1900,1573,1814,2468,3602,3384,3498,3319,4518,3482,3969,4670,5179,6910,8227,7416,7365,7511,7666,6995],\"VEHICLE THEFT\":[4716,3215,2550,1581,1220,1224,1805,3114,4451,4368,4090,3674,5403,3854,4511,5313,6312,8379,10220,8956,9389,9025,9537,8302],\"WARRANTS\":[4007,2731,2274,1755,1347,952,1636,3192,3742,4372,4749,5069,5394,5728,5882,5797,6348,6495,5904,5144,4150,3972,4763,4396],\"WEAPON LAWS\":[1125,830,731,444,312,169,243,434,594,758,798,918,1079,1071,1054,1220,1286,1249,1338,1247,1151,1175,1281,1191],\"hour_of_day\":[0,1,2,3,4,5,6,7,8,9,10,11,12,13,14,15,16,17,18,19,20,21,22,23],\"index\":[0,1,2,3,4,5,6,7,8,9,10,11,12,13,14,15,16,17,18,19,20,21,22,23]},\"selected\":{\"id\":\"0371b949-8296-4038-b88a-29a77bdea807\",\"type\":\"Selection\"},\"selection_policy\":{\"id\":\"0e75d9dd-33a7-4293-8cc2-d0c661d568d7\",\"type\":\"UnionRenderers\"}},\"id\":\"d5d898db-c4cf-424c-9b1a-74c2310e87c0\",\"type\":\"ColumnDataSource\"},{\"attributes\":{\"data_source\":{\"id\":\"d5d898db-c4cf-424c-9b1a-74c2310e87c0\",\"type\":\"ColumnDataSource\"},\"glyph\":{\"id\":\"a36cccb8-f2db-4b8e-9fe0-65ab2d166339\",\"type\":\"Diamond\"},\"hover_glyph\":null,\"muted_glyph\":null,\"nonselection_glyph\":{\"id\":\"00804b46-53c4-4cda-ba93-e2c10a2aa9d1\",\"type\":\"Diamond\"},\"selection_glyph\":null,\"view\":{\"id\":\"b750d4eb-579a-42b0-a4eb-4c36ec45d9fa\",\"type\":\"CDSView\"}},\"id\":\"de11c998-87b1-4154-b5c1-5fb42f73b54a\",\"type\":\"GlyphRenderer\"},{\"attributes\":{\"label\":{\"value\":\"Assault\"},\"renderers\":[{\"id\":\"bbd308af-c19f-4459-95d0-91eaf69ea5de\",\"type\":\"GlyphRenderer\"}]},\"id\":\"0fa9302b-4758-4c4d-a4b5-fae7c850fb4b\",\"type\":\"LegendItem\"},{\"attributes\":{\"bottom_units\":\"screen\",\"fill_alpha\":{\"value\":0.5},\"fill_color\":{\"value\":\"lightgrey\"},\"left_units\":\"screen\",\"level\":\"overlay\",\"line_alpha\":{\"value\":1.0},\"line_color\":{\"value\":\"black\"},\"line_dash\":[4,4],\"line_width\":{\"value\":2},\"plot\":null,\"render_mode\":\"css\",\"right_units\":\"screen\",\"top_units\":\"screen\"},\"id\":\"b3503051-a556-4670-89c3-e68ac38fac89\",\"type\":\"BoxAnnotation\"},{\"attributes\":{\"active_drag\":\"auto\",\"active_inspect\":\"auto\",\"active_scroll\":\"auto\",\"active_tap\":\"auto\",\"tools\":[{\"id\":\"f0892280-442c-4c85-9121-131c29ef5b29\",\"type\":\"PanTool\"},{\"id\":\"7144903f-81d5-4aaf-8b4f-32a216304cd7\",\"type\":\"WheelZoomTool\"},{\"id\":\"3500b09b-587a-4ea2-801c-5a80f6a79da1\",\"type\":\"BoxZoomTool\"},{\"id\":\"dadd4a8b-1914-47e1-9db2-462d23490c13\",\"type\":\"SaveTool\"},{\"id\":\"932f740e-3933-4292-bace-e9493c5e4cdb\",\"type\":\"ResetTool\"},{\"id\":\"be03eb0b-d7a7-4370-bac1-f66887f5dfa7\",\"type\":\"HelpTool\"},{\"id\":\"dc3f3cf6-334d-4aa8-8c27-fd57c743c3d2\",\"type\":\"HoverTool\"}]},\"id\":\"c806cc55-89c8-4a2d-adf1-70534265a4a6\",\"type\":\"Toolbar\"},{\"attributes\":{\"source\":{\"id\":\"d5d898db-c4cf-424c-9b1a-74c2310e87c0\",\"type\":\"ColumnDataSource\"}},\"id\":\"a49499d1-8ac4-4633-8d73-8297571afb7d\",\"type\":\"CDSView\"},{\"attributes\":{\"callback\":null},\"id\":\"031cd4e0-adc9-48d7-a383-8c9e9587bd18\",\"type\":\"DataRange1d\"},{\"attributes\":{\"plot\":{\"id\":\"6400ee1a-b8af-43f0-8b7b-16f45485d7bf\",\"subtype\":\"Figure\",\"type\":\"Plot\"},\"ticker\":{\"id\":\"9af22af1-76cd-489c-aa06-1d0b1e7cbeea\",\"type\":\"BasicTicker\"}},\"id\":\"c7b659c9-2179-4128-970e-9af7efcb106c\",\"type\":\"Grid\"},{\"attributes\":{},\"id\":\"0371b949-8296-4038-b88a-29a77bdea807\",\"type\":\"Selection\"},{\"attributes\":{},\"id\":\"6c374fc9-eaca-4c79-a4a9-7f483a9fb071\",\"type\":\"LinearScale\"},{\"attributes\":{},\"id\":\"12399edd-8383-4722-928b-918e13f4a6d9\",\"type\":\"LinearScale\"},{\"attributes\":{\"callback\":null},\"id\":\"6927edb7-da8c-4fc1-822f-3d629367ad97\",\"type\":\"DataRange1d\"}],\"root_ids\":[\"6400ee1a-b8af-43f0-8b7b-16f45485d7bf\"]},\"title\":\"Bokeh Application\",\"version\":\"0.12.16\"}};\n",
       "  var render_items = [{\"docid\":\"738f481f-3232-4853-90ae-e2bcc542e75e\",\"elementid\":\"fb69f0be-df63-48b5-a4a0-c77c248b1c76\",\"modelid\":\"6400ee1a-b8af-43f0-8b7b-16f45485d7bf\"}];\n",
       "  root.Bokeh.embed.embed_items_notebook(docs_json, render_items);\n",
       "\n",
       "  }\n",
       "  if (root.Bokeh !== undefined) {\n",
       "    embed_document(root);\n",
       "  } else {\n",
       "    var attempts = 0;\n",
       "    var timer = setInterval(function(root) {\n",
       "      if (root.Bokeh !== undefined) {\n",
       "        embed_document(root);\n",
       "        clearInterval(timer);\n",
       "      }\n",
       "      attempts++;\n",
       "      if (attempts > 100) {\n",
       "        console.log(\"Bokeh: ERROR: Unable to run BokehJS code because BokehJS library is missing\")\n",
       "        clearInterval(timer);\n",
       "      }\n",
       "    }, 10, root)\n",
       "  }\n",
       "})(window);"
      ],
      "application/vnd.bokehjs_exec.v0+json": ""
     },
     "metadata": {
      "application/vnd.bokehjs_exec.v0+json": {
       "id": "6400ee1a-b8af-43f0-8b7b-16f45485d7bf"
      }
     },
     "output_type": "display_data"
    }
   ],
   "source": [
    "\n",
    "p4 = figure(plot_width=600, plot_height=600)\n",
    "\n",
    "p4.circle(x='hour_of_day', y='DRUG/NARCOTIC', \n",
    "         source=source, \n",
    "         size= 15 , color='red', legend=\"Drugs\")\n",
    "p4.triangle(x='hour_of_day', y='ASSAULT', \n",
    "         source=source, \n",
    "         size= 15 , color='blue', legend=\"Assault\")\n",
    "p4.diamond(x='hour_of_day', y='BURGLARY', \n",
    "         source=source, \n",
    "         size= 15 , color='purple', legend=\"Burglary\")\n",
    "\n",
    "\n",
    "\n",
    "p4.title.text = 'SFPD Crime Reports by Hour'\n",
    "p4.xaxis.axis_label = 'Hour of Day'\n",
    "p4.yaxis.axis_label = 'Number of Reports'\n",
    "\n",
    "hover = HoverTool()\n",
    "hover.tooltips=[\n",
    "    ('Hour of Day', '@hour_of_day'),\n",
    "    ('Number of Reports', '@ARSON'),\n",
    "]\n",
    "\n",
    "p4.add_tools(hover)\n",
    "\n",
    "p4.legend.location = \"bottom_right\"\n",
    "p.legend.border_line_color = \"navy\"\n",
    "\n",
    "show(p4)"
   ]
  },
  {
   "cell_type": "code",
   "execution_count": 14,
   "metadata": {},
   "outputs": [
    {
     "data": {
      "text/html": [
       "\n",
       "<div class=\"bk-root\">\n",
       "    <div class=\"bk-plotdiv\" id=\"b5ada7ef-4af3-4968-9f0f-f3c3a0c0f618\"></div>\n",
       "</div>"
      ]
     },
     "metadata": {},
     "output_type": "display_data"
    },
    {
     "data": {
      "application/javascript": [
       "(function(root) {\n",
       "  function embed_document(root) {\n",
       "    \n",
       "  var docs_json = {\"348f1f0a-18bd-4915-ad87-0043929babd3\":{\"roots\":{\"references\":[{\"attributes\":{},\"id\":\"1f596f6a-f9d2-40af-923e-15e66dc97d1c\",\"type\":\"LinearScale\"},{\"attributes\":{\"plot\":{\"id\":\"0f4eb6ec-f4c6-46f5-b527-d56dfcc29510\",\"subtype\":\"Figure\",\"type\":\"Plot\"},\"ticker\":{\"id\":\"468b4a1c-1232-43b3-b977-4ac9a2ba107d\",\"type\":\"BasicTicker\"}},\"id\":\"574e935c-620e-4665-9680-aecb9f541369\",\"type\":\"Grid\"},{\"attributes\":{\"data_source\":{\"id\":\"d5d898db-c4cf-424c-9b1a-74c2310e87c0\",\"type\":\"ColumnDataSource\"},\"glyph\":{\"id\":\"36d32c85-f6cd-4f3d-860a-5aa4401473c1\",\"type\":\"Triangle\"},\"hover_glyph\":null,\"muted_glyph\":null,\"nonselection_glyph\":{\"id\":\"b1a20fd9-ef14-43b6-b6aa-8306636f7e55\",\"type\":\"Triangle\"},\"selection_glyph\":null,\"view\":{\"id\":\"6267c6f1-5900-4cd7-893b-ad9befc2bfd5\",\"type\":\"CDSView\"}},\"id\":\"3a54089a-ef31-40d1-b1cf-b3c425c087db\",\"type\":\"GlyphRenderer\"},{\"attributes\":{\"axis_label\":\"Hour of Day\",\"formatter\":{\"id\":\"f28f4abe-cd3b-4dce-ac7e-9c7d530b5c82\",\"type\":\"BasicTickFormatter\"},\"plot\":{\"id\":\"0f4eb6ec-f4c6-46f5-b527-d56dfcc29510\",\"subtype\":\"Figure\",\"type\":\"Plot\"},\"ticker\":{\"id\":\"468b4a1c-1232-43b3-b977-4ac9a2ba107d\",\"type\":\"BasicTicker\"}},\"id\":\"23d98009-a4c8-494a-9caa-b773ea87519c\",\"type\":\"LinearAxis\"},{\"attributes\":{},\"id\":\"4a66d370-107d-404a-9251-2ecba597cea5\",\"type\":\"LinearScale\"},{\"attributes\":{\"axis_label\":\"Number of Reports\",\"formatter\":{\"id\":\"4864b268-0a0f-495c-8662-973d4ed58eac\",\"type\":\"BasicTickFormatter\"},\"plot\":{\"id\":\"0f4eb6ec-f4c6-46f5-b527-d56dfcc29510\",\"subtype\":\"Figure\",\"type\":\"Plot\"},\"ticker\":{\"id\":\"38c8cad9-b251-460b-9057-e47da2484d37\",\"type\":\"BasicTicker\"}},\"id\":\"0ade4cd3-6309-47b7-878b-e2e716fce84e\",\"type\":\"LinearAxis\"},{\"attributes\":{\"source\":{\"id\":\"d5d898db-c4cf-424c-9b1a-74c2310e87c0\",\"type\":\"ColumnDataSource\"}},\"id\":\"6267c6f1-5900-4cd7-893b-ad9befc2bfd5\",\"type\":\"CDSView\"},{\"attributes\":{\"callback\":null},\"id\":\"cb5467e8-39f0-4ae8-a191-c2e3e1fe9b8e\",\"type\":\"DataRange1d\"},{\"attributes\":{\"fill_alpha\":{\"value\":0.1},\"fill_color\":{\"value\":\"#1f77b4\"},\"line_alpha\":{\"value\":0.1},\"line_color\":{\"value\":\"#1f77b4\"},\"size\":{\"units\":\"screen\",\"value\":15},\"x\":{\"field\":\"hour_of_day\"},\"y\":{\"field\":\"ASSAULT\"}},\"id\":\"b1a20fd9-ef14-43b6-b6aa-8306636f7e55\",\"type\":\"Triangle\"},{\"attributes\":{},\"id\":\"468b4a1c-1232-43b3-b977-4ac9a2ba107d\",\"type\":\"BasicTicker\"},{\"attributes\":{\"dimension\":1,\"plot\":{\"id\":\"0f4eb6ec-f4c6-46f5-b527-d56dfcc29510\",\"subtype\":\"Figure\",\"type\":\"Plot\"},\"ticker\":{\"id\":\"38c8cad9-b251-460b-9057-e47da2484d37\",\"type\":\"BasicTicker\"}},\"id\":\"ed1b4a63-5c62-47e6-b22f-ef167316f8e5\",\"type\":\"Grid\"},{\"attributes\":{},\"id\":\"f28f4abe-cd3b-4dce-ac7e-9c7d530b5c82\",\"type\":\"BasicTickFormatter\"},{\"attributes\":{\"bottom_units\":\"screen\",\"fill_alpha\":{\"value\":0.5},\"fill_color\":{\"value\":\"lightgrey\"},\"left_units\":\"screen\",\"level\":\"overlay\",\"line_alpha\":{\"value\":1.0},\"line_color\":{\"value\":\"black\"},\"line_dash\":[4,4],\"line_width\":{\"value\":2},\"plot\":null,\"render_mode\":\"css\",\"right_units\":\"screen\",\"top_units\":\"screen\"},\"id\":\"89c1e420-29c2-44af-b3bc-1a5b9f55aa31\",\"type\":\"BoxAnnotation\"},{\"attributes\":{},\"id\":\"445a23f8-9a6d-4ee1-9be6-916485528825\",\"type\":\"BasicTickFormatter\"},{\"attributes\":{\"active_drag\":\"auto\",\"active_inspect\":\"auto\",\"active_scroll\":\"auto\",\"active_tap\":\"auto\",\"tools\":[{\"id\":\"bffb1832-70f4-4520-9fc2-27fbeaa1d9c6\",\"type\":\"PanTool\"},{\"id\":\"b882f289-e96a-49e8-a2ca-47041f6b7174\",\"type\":\"WheelZoomTool\"},{\"id\":\"ee08fad7-a782-4776-ab59-350f742a4bfd\",\"type\":\"BoxZoomTool\"},{\"id\":\"ec189f03-d4c6-4f14-bf5d-a25185c16373\",\"type\":\"SaveTool\"},{\"id\":\"d9f0166c-7324-4c95-8a19-1cfb9940ed0e\",\"type\":\"ResetTool\"},{\"id\":\"fe26ebaf-9984-4458-a23e-169c3f5e310b\",\"type\":\"HelpTool\"},{\"id\":\"5e733344-6e0e-40b6-b5da-430ff89f5ac0\",\"type\":\"HoverTool\"}]},\"id\":\"7e0125cd-3d78-4460-aeba-0910e0f75f00\",\"type\":\"Toolbar\"},{\"attributes\":{},\"id\":\"bffb1832-70f4-4520-9fc2-27fbeaa1d9c6\",\"type\":\"PanTool\"},{\"attributes\":{},\"id\":\"38c8cad9-b251-460b-9057-e47da2484d37\",\"type\":\"BasicTicker\"},{\"attributes\":{},\"id\":\"ec189f03-d4c6-4f14-bf5d-a25185c16373\",\"type\":\"SaveTool\"},{\"attributes\":{},\"id\":\"b882f289-e96a-49e8-a2ca-47041f6b7174\",\"type\":\"WheelZoomTool\"},{\"attributes\":{\"overlay\":{\"id\":\"89c1e420-29c2-44af-b3bc-1a5b9f55aa31\",\"type\":\"BoxAnnotation\"}},\"id\":\"ee08fad7-a782-4776-ab59-350f742a4bfd\",\"type\":\"BoxZoomTool\"},{\"attributes\":{},\"id\":\"d9f0166c-7324-4c95-8a19-1cfb9940ed0e\",\"type\":\"ResetTool\"},{\"attributes\":{},\"id\":\"7782f890-8825-4b4a-92a8-cc96e4496c17\",\"type\":\"SaveTool\"},{\"attributes\":{},\"id\":\"4bbd8d14-91b4-4a52-94c8-6651136ebdd5\",\"type\":\"BasicTickFormatter\"},{\"attributes\":{},\"id\":\"fe26ebaf-9984-4458-a23e-169c3f5e310b\",\"type\":\"HelpTool\"},{\"attributes\":{\"axis_label\":\"Hour of Day\",\"formatter\":{\"id\":\"445a23f8-9a6d-4ee1-9be6-916485528825\",\"type\":\"BasicTickFormatter\"},\"plot\":{\"id\":\"41cac6e9-7b14-4339-8fe4-365bfff432ad\",\"subtype\":\"Figure\",\"type\":\"Plot\"},\"ticker\":{\"id\":\"3b3310f0-0aa7-4ec5-b85b-62b75529a045\",\"type\":\"BasicTicker\"}},\"id\":\"cfeae5eb-807b-4c3d-b8f5-b7d508a6e0d1\",\"type\":\"LinearAxis\"},{\"attributes\":{},\"id\":\"3b3310f0-0aa7-4ec5-b85b-62b75529a045\",\"type\":\"BasicTicker\"},{\"attributes\":{\"callback\":null,\"renderers\":\"auto\",\"tooltips\":[[\"Hour of Day\",\"@hour_of_day\"],[\"Number of Reports\",\"@ASSAULT\"]]},\"id\":\"5e733344-6e0e-40b6-b5da-430ff89f5ac0\",\"type\":\"HoverTool\"},{\"attributes\":{\"callback\":null,\"data\":{\"ARSON\":[249,238,257,257,216,167,114,89,92,78,83,82,109,118,114,135,120,153,148,163,193,188,230,246],\"ASSAULT\":[10644,9089,8264,4207,2652,2116,2821,4187,6394,7027,7813,8265,10289,8920,9045,10160,9998,10187,10019,9777,9682,10067,9631,9140],\"BAD CHECKS\":[159,3,2,3,3,2,3,12,49,65,58,46,186,46,50,62,50,41,20,20,12,9,8,5],\"BRIBERY\":[43,26,27,20,9,9,7,12,16,35,39,31,41,43,39,35,48,55,30,49,45,47,49,42],\"BURGLARY\":[3399,2200,2374,2419,2154,1963,1977,3107,4811,4207,3919,3703,4975,3283,3588,4203,4675,6248,6279,4698,4098,3976,3750,3522],\"DISORDERLY CONDUCT\":[523,383,343,216,159,398,1000,908,679,514,437,392,398,378,349,339,310,294,325,267,253,286,388,411],\"DRIVING UNDER THE INFLUENCE\":[714,650,645,288,108,59,70,46,46,55,26,50,56,65,75,104,144,181,188,231,277,374,503,638],\"DRUG/NARCOTIC\":[3744,2274,1842,1248,909,475,1332,3016,3994,4699,5267,5855,6093,7885,8907,8217,8586,8860,7867,6691,5104,4798,5719,4878],\"DRUNKENNESS\":[821,780,658,259,133,45,80,164,157,174,201,287,282,281,327,361,436,513,569,546,569,621,744,738],\"EMBEZZLEMENT\":[629,12,8,13,12,7,13,35,212,213,162,117,503,108,118,136,116,137,113,81,55,55,34,38],\"EXTORTION\":[81,11,15,8,4,7,9,16,27,31,61,36,73,46,41,44,34,34,29,30,20,24,24,20],\"FAMILY OFFENSES\":[66,25,23,9,5,4,9,28,47,46,63,70,64,90,85,101,75,68,62,62,40,50,39,40],\"FORGERY/COUNTERFEITING\":[3568,197,126,99,72,55,145,274,1110,1429,1207,1069,3324,1422,1299,1546,1404,1298,869,612,573,441,388,312],\"FRAUD\":[5511,738,498,304,200,188,355,673,1916,2105,2047,1658,4961,2248,2103,2464,2187,2255,2010,1558,1357,1111,1091,1195],\"GAMBLING\":[22,1,2,2,1,4,2,5,11,11,20,27,32,30,28,32,20,24,22,14,8,6,9,8],\"KIDNAPPING\":[329,251,257,179,100,99,80,130,157,199,209,172,255,221,220,246,264,260,288,261,265,281,259,293],\"LARCENY/THEFT\":[18602,11503,7516,4706,3050,3069,4837,7637,12876,15298,19080,20991,26986,23982,24866,26438,27628,31426,37456,35074,30589,25794,25303,22950],\"LIQUOR LAWS\":[194,96,90,40,28,13,38,82,116,121,150,159,201,197,175,186,273,444,354,285,179,198,229,221],\"LOITERING\":[78,62,44,36,21,90,151,137,127,99,114,117,109,137,127,90,138,169,149,112,86,91,56,74],\"MISSING PERSON\":[2140,941,790,466,352,484,1111,3526,4322,3571,3597,3375,4516,3360,3477,4023,3646,3464,3496,2901,2793,2638,2573,2144],\"NON-CRIMINAL\":[10570,5752,4482,3056,2224,2203,4099,6741,10091,11291,12590,12581,17216,13430,13400,14023,14127,13230,12506,10898,10118,9930,9778,8987],\"OTHER OFFENSES\":[18552,8722,7215,4781,3604,2817,4121,8198,12718,14325,13950,13830,19761,15285,15393,16260,17914,18695,17157,14649,12593,12660,15744,15098],\"PORNOGRAPHY/OBSCENE MAT\":[5,0,3,2,0,0,3,0,3,3,1,2,4,1,7,2,4,1,3,0,1,3,6,1],\"PROSTITUTION\":[1370,1061,789,544,472,577,516,266,151,158,189,214,484,334,307,234,286,599,1166,1363,1090,1287,1593,1602],\"RECOVERED VEHICLE\":[359,260,218,201,160,99,126,414,468,558,542,557,609,499,439,386,512,447,364,333,276,254,316,317],\"ROBBERY\":[2957,3016,3154,1900,1233,1063,1019,922,1048,1245,1435,1612,1926,2045,2160,2471,2692,2669,2820,3013,3349,3814,3768,3523],\"RUNAWAY\":[119,53,42,20,19,20,72,246,283,216,227,208,240,219,212,248,258,236,308,257,258,210,209,175],\"SECONDARY CODES\":[1473,822,768,547,395,295,423,627,996,1055,1055,1143,1529,1191,1158,1313,1293,1309,1416,1312,1326,1321,1304,1152],\"SEX OFFENSES, FORCIBLE\":[1426,577,593,392,222,176,152,212,424,389,361,339,584,416,432,554,534,550,466,435,531,502,556,588],\"SEX OFFENSES, NON FORCIBLE\":[80,6,2,2,2,4,6,5,19,19,13,23,42,19,23,28,18,17,20,13,16,12,13,18],\"STOLEN PROPERTY\":[546,388,325,248,225,172,195,283,358,385,434,513,665,620,666,711,741,761,734,603,570,503,517,482],\"SUICIDE\":[46,43,30,23,15,22,32,42,51,67,71,71,67,72,69,78,60,73,66,71,57,67,43,39],\"SUSPICIOUS OCC\":[5111,2173,1980,1376,937,762,1247,1996,3458,3888,3879,3962,5880,4252,4224,4599,4388,4210,4159,3692,3354,3339,3187,2770],\"TREA\":[0,0,2,0,0,1,1,1,0,0,1,1,1,0,0,1,1,1,0,1,1,0,1,0],\"TRESPASS\":[557,399,438,360,261,528,1153,1249,1162,1043,1012,970,1040,959,863,947,882,919,853,765,737,718,606,538],\"Unnamed: 0\":[0,1,2,3,4,5,6,7,8,9,10,11,12,13,14,15,16,17,18,19,20,21,22,23],\"VANDALISM\":[6412,4484,4239,2835,1900,1573,1814,2468,3602,3384,3498,3319,4518,3482,3969,4670,5179,6910,8227,7416,7365,7511,7666,6995],\"VEHICLE THEFT\":[4716,3215,2550,1581,1220,1224,1805,3114,4451,4368,4090,3674,5403,3854,4511,5313,6312,8379,10220,8956,9389,9025,9537,8302],\"WARRANTS\":[4007,2731,2274,1755,1347,952,1636,3192,3742,4372,4749,5069,5394,5728,5882,5797,6348,6495,5904,5144,4150,3972,4763,4396],\"WEAPON LAWS\":[1125,830,731,444,312,169,243,434,594,758,798,918,1079,1071,1054,1220,1286,1249,1338,1247,1151,1175,1281,1191],\"hour_of_day\":[0,1,2,3,4,5,6,7,8,9,10,11,12,13,14,15,16,17,18,19,20,21,22,23],\"index\":[0,1,2,3,4,5,6,7,8,9,10,11,12,13,14,15,16,17,18,19,20,21,22,23]},\"selected\":{\"id\":\"0371b949-8296-4038-b88a-29a77bdea807\",\"type\":\"Selection\"},\"selection_policy\":{\"id\":\"0e75d9dd-33a7-4293-8cc2-d0c661d568d7\",\"type\":\"UnionRenderers\"}},\"id\":\"d5d898db-c4cf-424c-9b1a-74c2310e87c0\",\"type\":\"ColumnDataSource\"},{\"attributes\":{},\"id\":\"4864b268-0a0f-495c-8662-973d4ed58eac\",\"type\":\"BasicTickFormatter\"},{\"attributes\":{\"bottom_units\":\"screen\",\"fill_alpha\":{\"value\":0.5},\"fill_color\":{\"value\":\"lightgrey\"},\"left_units\":\"screen\",\"level\":\"overlay\",\"line_alpha\":{\"value\":1.0},\"line_color\":{\"value\":\"black\"},\"line_dash\":[4,4],\"line_width\":{\"value\":2},\"plot\":null,\"render_mode\":\"css\",\"right_units\":\"screen\",\"top_units\":\"screen\"},\"id\":\"ca4a8a4b-6476-48ed-b7e0-a54c7926e18f\",\"type\":\"BoxAnnotation\"},{\"attributes\":{},\"id\":\"73546189-a031-4c00-a58a-f8c0124a3c61\",\"type\":\"WheelZoomTool\"},{\"attributes\":{\"overlay\":{\"id\":\"ca4a8a4b-6476-48ed-b7e0-a54c7926e18f\",\"type\":\"BoxAnnotation\"}},\"id\":\"ecb643e4-8158-40a3-a9ac-8e8cfe758c04\",\"type\":\"BoxZoomTool\"},{\"attributes\":{},\"id\":\"e48007b0-f971-4a2c-b8f6-d9c1c807f1ba\",\"type\":\"HelpTool\"},{\"attributes\":{\"callback\":null},\"id\":\"ff0eddc6-09b1-4c3d-9961-920d69842da7\",\"type\":\"DataRange1d\"},{\"attributes\":{},\"id\":\"95168465-b79c-4b8f-9495-c7af1015816d\",\"type\":\"ResetTool\"},{\"attributes\":{},\"id\":\"69d8ce47-f43f-4e53-b5c0-0ac6e8340dcf\",\"type\":\"BasicTickFormatter\"},{\"attributes\":{},\"id\":\"31e373a8-e777-463b-959c-a73d5e82b013\",\"type\":\"PanTool\"},{\"attributes\":{},\"id\":\"c79f6511-a23e-4ecf-b547-7e1d8594b4ce\",\"type\":\"BasicTickFormatter\"},{\"attributes\":{\"children\":[{\"id\":\"41cac6e9-7b14-4339-8fe4-365bfff432ad\",\"subtype\":\"Figure\",\"type\":\"Plot\"},{\"id\":\"0f4eb6ec-f4c6-46f5-b527-d56dfcc29510\",\"subtype\":\"Figure\",\"type\":\"Plot\"},{\"id\":\"17b2d841-e460-4cfb-927e-4602545c2c2d\",\"subtype\":\"Figure\",\"type\":\"Plot\"}]},\"id\":\"957f0083-989d-4857-a079-18e79e226f37\",\"type\":\"Row\"},{\"attributes\":{\"dimension\":1,\"plot\":{\"id\":\"41cac6e9-7b14-4339-8fe4-365bfff432ad\",\"subtype\":\"Figure\",\"type\":\"Plot\"},\"ticker\":{\"id\":\"ae675a26-c914-4c8a-baf4-bd9cc86946d7\",\"type\":\"BasicTicker\"}},\"id\":\"08ba8197-45c5-476b-8c6f-beb2fb0298c3\",\"type\":\"Grid\"},{\"attributes\":{\"callback\":null,\"renderers\":\"auto\",\"tooltips\":[[\"Hour of Day\",\"@hour_of_day\"],[\"Number of Reports\",\"@BURGLARY\"]]},\"id\":\"87ddd599-362e-4052-b03a-03e389b07819\",\"type\":\"HoverTool\"},{\"attributes\":{},\"id\":\"0e75d9dd-33a7-4293-8cc2-d0c661d568d7\",\"type\":\"UnionRenderers\"},{\"attributes\":{\"active_drag\":\"auto\",\"active_inspect\":\"auto\",\"active_scroll\":\"auto\",\"active_tap\":\"auto\",\"tools\":[{\"id\":\"31e373a8-e777-463b-959c-a73d5e82b013\",\"type\":\"PanTool\"},{\"id\":\"73546189-a031-4c00-a58a-f8c0124a3c61\",\"type\":\"WheelZoomTool\"},{\"id\":\"0c6229df-a3cd-495b-b49a-f9b11c8de0e1\",\"type\":\"BoxZoomTool\"},{\"id\":\"9d25e580-449c-4b6c-9239-0211be8446b5\",\"type\":\"SaveTool\"},{\"id\":\"50be59fa-7957-44dc-8d9f-71c8145d394a\",\"type\":\"ResetTool\"},{\"id\":\"b73aa048-2418-47fb-8fd6-3fb0d2b85998\",\"type\":\"HelpTool\"},{\"id\":\"66fe8e8d-2c94-4ace-b88e-bae1e672160d\",\"type\":\"HoverTool\"}]},\"id\":\"c187b4cd-b5c7-4aee-9e21-57cebc513d4d\",\"type\":\"Toolbar\"},{\"attributes\":{\"bottom_units\":\"screen\",\"fill_alpha\":{\"value\":0.5},\"fill_color\":{\"value\":\"lightgrey\"},\"left_units\":\"screen\",\"level\":\"overlay\",\"line_alpha\":{\"value\":1.0},\"line_color\":{\"value\":\"black\"},\"line_dash\":[4,4],\"line_width\":{\"value\":2},\"plot\":null,\"render_mode\":\"css\",\"right_units\":\"screen\",\"top_units\":\"screen\"},\"id\":\"454b3076-08b3-4675-b650-385856c18587\",\"type\":\"BoxAnnotation\"},{\"attributes\":{\"fill_alpha\":{\"value\":0.1},\"fill_color\":{\"value\":\"#1f77b4\"},\"line_alpha\":{\"value\":0.1},\"line_color\":{\"value\":\"#1f77b4\"},\"size\":{\"units\":\"screen\",\"value\":15},\"x\":{\"field\":\"hour_of_day\"},\"y\":{\"field\":\"ARSON\"}},\"id\":\"26c07462-ca97-42e7-83b9-a6679591c70a\",\"type\":\"Circle\"},{\"attributes\":{},\"id\":\"b73aa048-2418-47fb-8fd6-3fb0d2b85998\",\"type\":\"HelpTool\"},{\"attributes\":{},\"id\":\"5d498d68-e489-453e-aa04-37eee5b93e74\",\"type\":\"WheelZoomTool\"},{\"attributes\":{\"axis_label\":\"Number of Reports\",\"formatter\":{\"id\":\"69d8ce47-f43f-4e53-b5c0-0ac6e8340dcf\",\"type\":\"BasicTickFormatter\"},\"plot\":{\"id\":\"17b2d841-e460-4cfb-927e-4602545c2c2d\",\"subtype\":\"Figure\",\"type\":\"Plot\"},\"ticker\":{\"id\":\"e31cf2dd-7a1a-4f6d-9198-9a08773c1975\",\"type\":\"BasicTicker\"}},\"id\":\"b638972a-cd31-4738-a9f6-f55a5c8bcb35\",\"type\":\"LinearAxis\"},{\"attributes\":{},\"id\":\"ae675a26-c914-4c8a-baf4-bd9cc86946d7\",\"type\":\"BasicTicker\"},{\"attributes\":{\"callback\":null,\"renderers\":\"auto\",\"tooltips\":[[\"Hour of Day\",\"@hour_of_day\"],[\"Number of Reports\",\"@ARSON\"]]},\"id\":\"66fe8e8d-2c94-4ace-b88e-bae1e672160d\",\"type\":\"HoverTool\"},{\"attributes\":{\"callback\":null},\"id\":\"7262fdb4-e32c-463a-85b2-0a28f7c20569\",\"type\":\"DataRange1d\"},{\"attributes\":{\"active_drag\":\"auto\",\"active_inspect\":\"auto\",\"active_scroll\":\"auto\",\"active_tap\":\"auto\",\"tools\":[{\"id\":\"f9e83c49-a02f-43e4-83f9-32601aec903b\",\"type\":\"PanTool\"},{\"id\":\"5d498d68-e489-453e-aa04-37eee5b93e74\",\"type\":\"WheelZoomTool\"},{\"id\":\"ecb643e4-8158-40a3-a9ac-8e8cfe758c04\",\"type\":\"BoxZoomTool\"},{\"id\":\"7782f890-8825-4b4a-92a8-cc96e4496c17\",\"type\":\"SaveTool\"},{\"id\":\"95168465-b79c-4b8f-9495-c7af1015816d\",\"type\":\"ResetTool\"},{\"id\":\"e48007b0-f971-4a2c-b8f6-d9c1c807f1ba\",\"type\":\"HelpTool\"},{\"id\":\"87ddd599-362e-4052-b03a-03e389b07819\",\"type\":\"HoverTool\"}]},\"id\":\"7820e03e-0118-48eb-a120-5a5e3e06bdd9\",\"type\":\"Toolbar\"},{\"attributes\":{},\"id\":\"9d25e580-449c-4b6c-9239-0211be8446b5\",\"type\":\"SaveTool\"},{\"attributes\":{\"source\":{\"id\":\"d5d898db-c4cf-424c-9b1a-74c2310e87c0\",\"type\":\"ColumnDataSource\"}},\"id\":\"af8f4bdc-7a9c-49c6-9ef6-fe8ce353f479\",\"type\":\"CDSView\"},{\"attributes\":{\"below\":[{\"id\":\"cfeae5eb-807b-4c3d-b8f5-b7d508a6e0d1\",\"type\":\"LinearAxis\"}],\"left\":[{\"id\":\"44c3cf0f-9dbe-4975-9d08-46725037baf5\",\"type\":\"LinearAxis\"}],\"plot_height\":400,\"plot_width\":400,\"renderers\":[{\"id\":\"cfeae5eb-807b-4c3d-b8f5-b7d508a6e0d1\",\"type\":\"LinearAxis\"},{\"id\":\"8f0395f1-9eea-4242-8d1b-79b15ee28930\",\"type\":\"Grid\"},{\"id\":\"44c3cf0f-9dbe-4975-9d08-46725037baf5\",\"type\":\"LinearAxis\"},{\"id\":\"08ba8197-45c5-476b-8c6f-beb2fb0298c3\",\"type\":\"Grid\"},{\"id\":\"454b3076-08b3-4675-b650-385856c18587\",\"type\":\"BoxAnnotation\"},{\"id\":\"e712210d-092b-4c8a-baa7-c0702ce685a0\",\"type\":\"GlyphRenderer\"}],\"title\":{\"id\":\"0811d1ab-4f31-486f-bd7b-4d453171ac1a\",\"type\":\"Title\"},\"toolbar\":{\"id\":\"c187b4cd-b5c7-4aee-9e21-57cebc513d4d\",\"type\":\"Toolbar\"},\"x_range\":{\"id\":\"7cae9295-7560-4335-9d11-5850d1bbbebe\",\"type\":\"DataRange1d\"},\"x_scale\":{\"id\":\"deb0c465-7b21-4111-806b-8bd7a910959e\",\"type\":\"LinearScale\"},\"y_range\":{\"id\":\"ff0eddc6-09b1-4c3d-9961-920d69842da7\",\"type\":\"DataRange1d\"},\"y_scale\":{\"id\":\"a5714d5f-ed3b-4ce8-9daf-97caf9582182\",\"type\":\"LinearScale\"}},\"id\":\"41cac6e9-7b14-4339-8fe4-365bfff432ad\",\"subtype\":\"Figure\",\"type\":\"Plot\"},{\"attributes\":{\"below\":[{\"id\":\"6929cbba-33ca-44b5-97e8-3dcda945a8b0\",\"type\":\"LinearAxis\"}],\"left\":[{\"id\":\"b638972a-cd31-4738-a9f6-f55a5c8bcb35\",\"type\":\"LinearAxis\"}],\"plot_height\":400,\"plot_width\":400,\"renderers\":[{\"id\":\"6929cbba-33ca-44b5-97e8-3dcda945a8b0\",\"type\":\"LinearAxis\"},{\"id\":\"d99f11c8-ad9e-45bc-817b-49ece57bcd94\",\"type\":\"Grid\"},{\"id\":\"b638972a-cd31-4738-a9f6-f55a5c8bcb35\",\"type\":\"LinearAxis\"},{\"id\":\"98027596-4a25-4d3d-8821-ce1a558f065e\",\"type\":\"Grid\"},{\"id\":\"ca4a8a4b-6476-48ed-b7e0-a54c7926e18f\",\"type\":\"BoxAnnotation\"},{\"id\":\"4b56fb57-ab52-4eab-b442-adbc6cae6026\",\"type\":\"GlyphRenderer\"}],\"title\":{\"id\":\"4ccc6259-dbff-47bc-a65d-a877af36aa76\",\"type\":\"Title\"},\"toolbar\":{\"id\":\"7820e03e-0118-48eb-a120-5a5e3e06bdd9\",\"type\":\"Toolbar\"},\"x_range\":{\"id\":\"7262fdb4-e32c-463a-85b2-0a28f7c20569\",\"type\":\"DataRange1d\"},\"x_scale\":{\"id\":\"87bfb42d-9a63-4d56-8ac3-cf61533deb3e\",\"type\":\"LinearScale\"},\"y_range\":{\"id\":\"f298e942-f204-46ea-a5c4-30c4ceefcc71\",\"type\":\"DataRange1d\"},\"y_scale\":{\"id\":\"a14aa391-6ccd-47d2-985f-dd77d4f643eb\",\"type\":\"LinearScale\"}},\"id\":\"17b2d841-e460-4cfb-927e-4602545c2c2d\",\"subtype\":\"Figure\",\"type\":\"Plot\"},{\"attributes\":{},\"id\":\"deb0c465-7b21-4111-806b-8bd7a910959e\",\"type\":\"LinearScale\"},{\"attributes\":{},\"id\":\"a5714d5f-ed3b-4ce8-9daf-97caf9582182\",\"type\":\"LinearScale\"},{\"attributes\":{},\"id\":\"a14aa391-6ccd-47d2-985f-dd77d4f643eb\",\"type\":\"LinearScale\"},{\"attributes\":{\"overlay\":{\"id\":\"454b3076-08b3-4675-b650-385856c18587\",\"type\":\"BoxAnnotation\"}},\"id\":\"0c6229df-a3cd-495b-b49a-f9b11c8de0e1\",\"type\":\"BoxZoomTool\"},{\"attributes\":{},\"id\":\"87bfb42d-9a63-4d56-8ac3-cf61533deb3e\",\"type\":\"LinearScale\"},{\"attributes\":{\"plot\":null,\"text\":\"SFPD Reports of Burglary by Hour\"},\"id\":\"4ccc6259-dbff-47bc-a65d-a877af36aa76\",\"type\":\"Title\"},{\"attributes\":{\"data_source\":{\"id\":\"d5d898db-c4cf-424c-9b1a-74c2310e87c0\",\"type\":\"ColumnDataSource\"},\"glyph\":{\"id\":\"889e075c-fb62-4c96-9670-5d99990aebcd\",\"type\":\"Diamond\"},\"hover_glyph\":null,\"muted_glyph\":null,\"nonselection_glyph\":{\"id\":\"68620946-0cd0-4271-8cf1-0454205a73a6\",\"type\":\"Diamond\"},\"selection_glyph\":null,\"view\":{\"id\":\"af8f4bdc-7a9c-49c6-9ef6-fe8ce353f479\",\"type\":\"CDSView\"}},\"id\":\"4b56fb57-ab52-4eab-b442-adbc6cae6026\",\"type\":\"GlyphRenderer\"},{\"attributes\":{\"axis_label\":\"Number of Reports\",\"formatter\":{\"id\":\"4bbd8d14-91b4-4a52-94c8-6651136ebdd5\",\"type\":\"BasicTickFormatter\"},\"plot\":{\"id\":\"41cac6e9-7b14-4339-8fe4-365bfff432ad\",\"subtype\":\"Figure\",\"type\":\"Plot\"},\"ticker\":{\"id\":\"ae675a26-c914-4c8a-baf4-bd9cc86946d7\",\"type\":\"BasicTicker\"}},\"id\":\"44c3cf0f-9dbe-4975-9d08-46725037baf5\",\"type\":\"LinearAxis\"},{\"attributes\":{\"dimension\":1,\"plot\":{\"id\":\"17b2d841-e460-4cfb-927e-4602545c2c2d\",\"subtype\":\"Figure\",\"type\":\"Plot\"},\"ticker\":{\"id\":\"e31cf2dd-7a1a-4f6d-9198-9a08773c1975\",\"type\":\"BasicTicker\"}},\"id\":\"98027596-4a25-4d3d-8821-ce1a558f065e\",\"type\":\"Grid\"},{\"attributes\":{\"source\":{\"id\":\"d5d898db-c4cf-424c-9b1a-74c2310e87c0\",\"type\":\"ColumnDataSource\"}},\"id\":\"d96eb35b-7277-4a8d-961d-73fba1f93865\",\"type\":\"CDSView\"},{\"attributes\":{},\"id\":\"14dbe39a-2cd0-437d-9bef-eb8e65e01393\",\"type\":\"BasicTicker\"},{\"attributes\":{},\"id\":\"e31cf2dd-7a1a-4f6d-9198-9a08773c1975\",\"type\":\"BasicTicker\"},{\"attributes\":{\"data_source\":{\"id\":\"d5d898db-c4cf-424c-9b1a-74c2310e87c0\",\"type\":\"ColumnDataSource\"},\"glyph\":{\"id\":\"f21efe38-8048-4dc3-b048-6a3a40acd936\",\"type\":\"Circle\"},\"hover_glyph\":null,\"muted_glyph\":null,\"nonselection_glyph\":{\"id\":\"26c07462-ca97-42e7-83b9-a6679591c70a\",\"type\":\"Circle\"},\"selection_glyph\":null,\"view\":{\"id\":\"d96eb35b-7277-4a8d-961d-73fba1f93865\",\"type\":\"CDSView\"}},\"id\":\"e712210d-092b-4c8a-baa7-c0702ce685a0\",\"type\":\"GlyphRenderer\"},{\"attributes\":{\"callback\":null},\"id\":\"db10c74b-e1a9-4a86-b414-dc4eabbc0ae7\",\"type\":\"DataRange1d\"},{\"attributes\":{\"axis_label\":\"Hour of Day\",\"formatter\":{\"id\":\"c79f6511-a23e-4ecf-b547-7e1d8594b4ce\",\"type\":\"BasicTickFormatter\"},\"plot\":{\"id\":\"17b2d841-e460-4cfb-927e-4602545c2c2d\",\"subtype\":\"Figure\",\"type\":\"Plot\"},\"ticker\":{\"id\":\"14dbe39a-2cd0-437d-9bef-eb8e65e01393\",\"type\":\"BasicTicker\"}},\"id\":\"6929cbba-33ca-44b5-97e8-3dcda945a8b0\",\"type\":\"LinearAxis\"},{\"attributes\":{\"plot\":{\"id\":\"17b2d841-e460-4cfb-927e-4602545c2c2d\",\"subtype\":\"Figure\",\"type\":\"Plot\"},\"ticker\":{\"id\":\"14dbe39a-2cd0-437d-9bef-eb8e65e01393\",\"type\":\"BasicTicker\"}},\"id\":\"d99f11c8-ad9e-45bc-817b-49ece57bcd94\",\"type\":\"Grid\"},{\"attributes\":{},\"id\":\"50be59fa-7957-44dc-8d9f-71c8145d394a\",\"type\":\"ResetTool\"},{\"attributes\":{\"below\":[{\"id\":\"23d98009-a4c8-494a-9caa-b773ea87519c\",\"type\":\"LinearAxis\"}],\"left\":[{\"id\":\"0ade4cd3-6309-47b7-878b-e2e716fce84e\",\"type\":\"LinearAxis\"}],\"plot_height\":400,\"plot_width\":400,\"renderers\":[{\"id\":\"23d98009-a4c8-494a-9caa-b773ea87519c\",\"type\":\"LinearAxis\"},{\"id\":\"574e935c-620e-4665-9680-aecb9f541369\",\"type\":\"Grid\"},{\"id\":\"0ade4cd3-6309-47b7-878b-e2e716fce84e\",\"type\":\"LinearAxis\"},{\"id\":\"ed1b4a63-5c62-47e6-b22f-ef167316f8e5\",\"type\":\"Grid\"},{\"id\":\"89c1e420-29c2-44af-b3bc-1a5b9f55aa31\",\"type\":\"BoxAnnotation\"},{\"id\":\"3a54089a-ef31-40d1-b1cf-b3c425c087db\",\"type\":\"GlyphRenderer\"}],\"title\":{\"id\":\"1739e682-19da-4cee-82bb-5c3155a20a82\",\"type\":\"Title\"},\"toolbar\":{\"id\":\"7e0125cd-3d78-4460-aeba-0910e0f75f00\",\"type\":\"Toolbar\"},\"x_range\":{\"id\":\"cb5467e8-39f0-4ae8-a191-c2e3e1fe9b8e\",\"type\":\"DataRange1d\"},\"x_scale\":{\"id\":\"4a66d370-107d-404a-9251-2ecba597cea5\",\"type\":\"LinearScale\"},\"y_range\":{\"id\":\"db10c74b-e1a9-4a86-b414-dc4eabbc0ae7\",\"type\":\"DataRange1d\"},\"y_scale\":{\"id\":\"1f596f6a-f9d2-40af-923e-15e66dc97d1c\",\"type\":\"LinearScale\"}},\"id\":\"0f4eb6ec-f4c6-46f5-b527-d56dfcc29510\",\"subtype\":\"Figure\",\"type\":\"Plot\"},{\"attributes\":{\"callback\":null},\"id\":\"f298e942-f204-46ea-a5c4-30c4ceefcc71\",\"type\":\"DataRange1d\"},{\"attributes\":{\"fill_alpha\":{\"value\":0.1},\"fill_color\":{\"value\":\"#1f77b4\"},\"line_alpha\":{\"value\":0.1},\"line_color\":{\"value\":\"#1f77b4\"},\"size\":{\"units\":\"screen\",\"value\":15},\"x\":{\"field\":\"hour_of_day\"},\"y\":{\"field\":\"BURGLARY\"}},\"id\":\"68620946-0cd0-4271-8cf1-0454205a73a6\",\"type\":\"Diamond\"},{\"attributes\":{\"plot\":null,\"text\":\"SFPD Reports of Arson by Hour\"},\"id\":\"0811d1ab-4f31-486f-bd7b-4d453171ac1a\",\"type\":\"Title\"},{\"attributes\":{\"fill_color\":{\"value\":\"purple\"},\"line_color\":{\"value\":\"purple\"},\"size\":{\"units\":\"screen\",\"value\":15},\"x\":{\"field\":\"hour_of_day\"},\"y\":{\"field\":\"BURGLARY\"}},\"id\":\"889e075c-fb62-4c96-9670-5d99990aebcd\",\"type\":\"Diamond\"},{\"attributes\":{\"plot\":{\"id\":\"41cac6e9-7b14-4339-8fe4-365bfff432ad\",\"subtype\":\"Figure\",\"type\":\"Plot\"},\"ticker\":{\"id\":\"3b3310f0-0aa7-4ec5-b85b-62b75529a045\",\"type\":\"BasicTicker\"}},\"id\":\"8f0395f1-9eea-4242-8d1b-79b15ee28930\",\"type\":\"Grid\"},{\"attributes\":{\"plot\":null,\"text\":\"SFPD Reports of Assault by Hour\"},\"id\":\"1739e682-19da-4cee-82bb-5c3155a20a82\",\"type\":\"Title\"},{\"attributes\":{\"callback\":null},\"id\":\"7cae9295-7560-4335-9d11-5850d1bbbebe\",\"type\":\"DataRange1d\"},{\"attributes\":{},\"id\":\"f9e83c49-a02f-43e4-83f9-32601aec903b\",\"type\":\"PanTool\"},{\"attributes\":{},\"id\":\"0371b949-8296-4038-b88a-29a77bdea807\",\"type\":\"Selection\"},{\"attributes\":{\"fill_color\":{\"value\":\"red\"},\"line_color\":{\"value\":\"red\"},\"size\":{\"units\":\"screen\",\"value\":15},\"x\":{\"field\":\"hour_of_day\"},\"y\":{\"field\":\"ARSON\"}},\"id\":\"f21efe38-8048-4dc3-b048-6a3a40acd936\",\"type\":\"Circle\"},{\"attributes\":{\"fill_color\":{\"value\":\"blue\"},\"line_color\":{\"value\":\"blue\"},\"size\":{\"units\":\"screen\",\"value\":15},\"x\":{\"field\":\"hour_of_day\"},\"y\":{\"field\":\"ASSAULT\"}},\"id\":\"36d32c85-f6cd-4f3d-860a-5aa4401473c1\",\"type\":\"Triangle\"}],\"root_ids\":[\"957f0083-989d-4857-a079-18e79e226f37\"]},\"title\":\"Bokeh Application\",\"version\":\"0.12.16\"}};\n",
       "  var render_items = [{\"docid\":\"348f1f0a-18bd-4915-ad87-0043929babd3\",\"elementid\":\"b5ada7ef-4af3-4968-9f0f-f3c3a0c0f618\",\"modelid\":\"957f0083-989d-4857-a079-18e79e226f37\"}];\n",
       "  root.Bokeh.embed.embed_items_notebook(docs_json, render_items);\n",
       "\n",
       "  }\n",
       "  if (root.Bokeh !== undefined) {\n",
       "    embed_document(root);\n",
       "  } else {\n",
       "    var attempts = 0;\n",
       "    var timer = setInterval(function(root) {\n",
       "      if (root.Bokeh !== undefined) {\n",
       "        embed_document(root);\n",
       "        clearInterval(timer);\n",
       "      }\n",
       "      attempts++;\n",
       "      if (attempts > 100) {\n",
       "        console.log(\"Bokeh: ERROR: Unable to run BokehJS code because BokehJS library is missing\")\n",
       "        clearInterval(timer);\n",
       "      }\n",
       "    }, 10, root)\n",
       "  }\n",
       "})(window);"
      ],
      "application/vnd.bokehjs_exec.v0+json": ""
     },
     "metadata": {
      "application/vnd.bokehjs_exec.v0+json": {
       "id": "957f0083-989d-4857-a079-18e79e226f37"
      }
     },
     "output_type": "display_data"
    }
   ],
   "source": [
    "from bokeh.layouts import row\n",
    "show(row(p, p2, p3))"
   ]
  }
 ],
 "metadata": {
  "kernelspec": {
   "display_name": "Python [conda env:anaconda3]",
   "language": "python",
   "name": "conda-env-anaconda3-py"
  },
  "language_info": {
   "codemirror_mode": {
    "name": "ipython",
    "version": 3
   },
   "file_extension": ".py",
   "mimetype": "text/x-python",
   "name": "python",
   "nbconvert_exporter": "python",
   "pygments_lexer": "ipython3",
   "version": "3.6.5"
  }
 },
 "nbformat": 4,
 "nbformat_minor": 2
}
